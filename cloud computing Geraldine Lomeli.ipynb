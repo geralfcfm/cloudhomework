{
 "cells": [
  {
   "cell_type": "markdown",
   "metadata": {
    "application/vnd.databricks.v1+cell": {
     "cellMetadata": {},
     "inputWidgets": {},
     "nuid": "96816ed7-b08a-4ca3-abb9-f99880c3535d",
     "showTitle": false,
     "tableResultSettingsMap": {},
     "title": ""
    }
   },
   "source": [
    "\n",
    "## Overview\n",
    "\n",
    "This notebook will show you how to create and query a table or DataFrame that you uploaded to DBFS. [DBFS](https://docs.databricks.com/user-guide/dbfs-databricks-file-system.html) is a Databricks File System that allows you to store data for querying inside of Databricks. This notebook assumes that you have a file already inside of DBFS that you would like to read from.\n",
    "\n",
    "This notebook is written in **Python** so the default cell type is Python. However, you can use different languages by using the `%LANGUAGE` syntax. Python, Scala, SQL, and R are all supported."
   ]
  },
  {
   "cell_type": "code",
   "execution_count": 0,
   "metadata": {
    "application/vnd.databricks.v1+cell": {
     "cellMetadata": {
      "byteLimit": 2048000,
      "rowLimit": 10000
     },
     "inputWidgets": {},
     "nuid": "6482be4c-f067-47c9-b0ac-35c938b94601",
     "showTitle": false,
     "tableResultSettingsMap": {},
     "title": ""
    }
   },
   "outputs": [
    {
     "output_type": "display_data",
     "data": {
      "text/html": [
       "<style scoped>\n",
       "  .table-result-container {\n",
       "    max-height: 300px;\n",
       "    overflow: auto;\n",
       "  }\n",
       "  table, th, td {\n",
       "    border: 1px solid black;\n",
       "    border-collapse: collapse;\n",
       "  }\n",
       "  th, td {\n",
       "    padding: 5px;\n",
       "  }\n",
       "  th {\n",
       "    text-align: left;\n",
       "  }\n",
       "</style><div class='table-result-container'><table class='table-result'><thead style='background-color: white'><tr><th>LocationID</th><th>Borough</th><th>Zone</th><th>service_zone</th></tr></thead><tbody><tr><td>1</td><td>EWR</td><td>Newark Airport</td><td>EWR</td></tr><tr><td>2</td><td>Queens</td><td>Jamaica Bay</td><td>Boro Zone</td></tr><tr><td>3</td><td>Bronx</td><td>Allerton/Pelham Gardens</td><td>Boro Zone</td></tr><tr><td>4</td><td>Manhattan</td><td>Alphabet City</td><td>Yellow Zone</td></tr><tr><td>5</td><td>Staten Island</td><td>Arden Heights</td><td>Boro Zone</td></tr><tr><td>6</td><td>Staten Island</td><td>Arrochar/Fort Wadsworth</td><td>Boro Zone</td></tr><tr><td>7</td><td>Queens</td><td>Astoria</td><td>Boro Zone</td></tr><tr><td>8</td><td>Queens</td><td>Astoria Park</td><td>Boro Zone</td></tr><tr><td>9</td><td>Queens</td><td>Auburndale</td><td>Boro Zone</td></tr><tr><td>10</td><td>Queens</td><td>Baisley Park</td><td>Boro Zone</td></tr><tr><td>11</td><td>Brooklyn</td><td>Bath Beach</td><td>Boro Zone</td></tr><tr><td>12</td><td>Manhattan</td><td>Battery Park</td><td>Yellow Zone</td></tr><tr><td>13</td><td>Manhattan</td><td>Battery Park City</td><td>Yellow Zone</td></tr><tr><td>14</td><td>Brooklyn</td><td>Bay Ridge</td><td>Boro Zone</td></tr><tr><td>15</td><td>Queens</td><td>Bay Terrace/Fort Totten</td><td>Boro Zone</td></tr><tr><td>16</td><td>Queens</td><td>Bayside</td><td>Boro Zone</td></tr><tr><td>17</td><td>Brooklyn</td><td>Bedford</td><td>Boro Zone</td></tr><tr><td>18</td><td>Bronx</td><td>Bedford Park</td><td>Boro Zone</td></tr><tr><td>19</td><td>Queens</td><td>Bellerose</td><td>Boro Zone</td></tr><tr><td>20</td><td>Bronx</td><td>Belmont</td><td>Boro Zone</td></tr><tr><td>21</td><td>Brooklyn</td><td>Bensonhurst East</td><td>Boro Zone</td></tr><tr><td>22</td><td>Brooklyn</td><td>Bensonhurst West</td><td>Boro Zone</td></tr><tr><td>23</td><td>Staten Island</td><td>Bloomfield/Emerson Hill</td><td>Boro Zone</td></tr><tr><td>24</td><td>Manhattan</td><td>Bloomingdale</td><td>Yellow Zone</td></tr><tr><td>25</td><td>Brooklyn</td><td>Boerum Hill</td><td>Boro Zone</td></tr><tr><td>26</td><td>Brooklyn</td><td>Borough Park</td><td>Boro Zone</td></tr><tr><td>27</td><td>Queens</td><td>Breezy Point/Fort Tilden/Riis Beach</td><td>Boro Zone</td></tr><tr><td>28</td><td>Queens</td><td>Briarwood/Jamaica Hills</td><td>Boro Zone</td></tr><tr><td>29</td><td>Brooklyn</td><td>Brighton Beach</td><td>Boro Zone</td></tr><tr><td>30</td><td>Queens</td><td>Broad Channel</td><td>Boro Zone</td></tr><tr><td>31</td><td>Bronx</td><td>Bronx Park</td><td>Boro Zone</td></tr><tr><td>32</td><td>Bronx</td><td>Bronxdale</td><td>Boro Zone</td></tr><tr><td>33</td><td>Brooklyn</td><td>Brooklyn Heights</td><td>Boro Zone</td></tr><tr><td>34</td><td>Brooklyn</td><td>Brooklyn Navy Yard</td><td>Boro Zone</td></tr><tr><td>35</td><td>Brooklyn</td><td>Brownsville</td><td>Boro Zone</td></tr><tr><td>36</td><td>Brooklyn</td><td>Bushwick North</td><td>Boro Zone</td></tr><tr><td>37</td><td>Brooklyn</td><td>Bushwick South</td><td>Boro Zone</td></tr><tr><td>38</td><td>Queens</td><td>Cambria Heights</td><td>Boro Zone</td></tr><tr><td>39</td><td>Brooklyn</td><td>Canarsie</td><td>Boro Zone</td></tr><tr><td>40</td><td>Brooklyn</td><td>Carroll Gardens</td><td>Boro Zone</td></tr><tr><td>41</td><td>Manhattan</td><td>Central Harlem</td><td>Boro Zone</td></tr><tr><td>42</td><td>Manhattan</td><td>Central Harlem North</td><td>Boro Zone</td></tr><tr><td>43</td><td>Manhattan</td><td>Central Park</td><td>Yellow Zone</td></tr><tr><td>44</td><td>Staten Island</td><td>Charleston/Tottenville</td><td>Boro Zone</td></tr><tr><td>45</td><td>Manhattan</td><td>Chinatown</td><td>Yellow Zone</td></tr><tr><td>46</td><td>Bronx</td><td>City Island</td><td>Boro Zone</td></tr><tr><td>47</td><td>Bronx</td><td>Claremont/Bathgate</td><td>Boro Zone</td></tr><tr><td>48</td><td>Manhattan</td><td>Clinton East</td><td>Yellow Zone</td></tr><tr><td>49</td><td>Brooklyn</td><td>Clinton Hill</td><td>Boro Zone</td></tr><tr><td>50</td><td>Manhattan</td><td>Clinton West</td><td>Yellow Zone</td></tr><tr><td>51</td><td>Bronx</td><td>Co-Op City</td><td>Boro Zone</td></tr><tr><td>52</td><td>Brooklyn</td><td>Cobble Hill</td><td>Boro Zone</td></tr><tr><td>53</td><td>Queens</td><td>College Point</td><td>Boro Zone</td></tr><tr><td>54</td><td>Brooklyn</td><td>Columbia Street</td><td>Boro Zone</td></tr><tr><td>55</td><td>Brooklyn</td><td>Coney Island</td><td>Boro Zone</td></tr><tr><td>56</td><td>Queens</td><td>Corona</td><td>Boro Zone</td></tr><tr><td>57</td><td>Queens</td><td>Corona</td><td>Boro Zone</td></tr><tr><td>58</td><td>Bronx</td><td>Country Club</td><td>Boro Zone</td></tr><tr><td>59</td><td>Bronx</td><td>Crotona Park</td><td>Boro Zone</td></tr><tr><td>60</td><td>Bronx</td><td>Crotona Park East</td><td>Boro Zone</td></tr><tr><td>61</td><td>Brooklyn</td><td>Crown Heights North</td><td>Boro Zone</td></tr><tr><td>62</td><td>Brooklyn</td><td>Crown Heights South</td><td>Boro Zone</td></tr><tr><td>63</td><td>Brooklyn</td><td>Cypress Hills</td><td>Boro Zone</td></tr><tr><td>64</td><td>Queens</td><td>Douglaston</td><td>Boro Zone</td></tr><tr><td>65</td><td>Brooklyn</td><td>Downtown Brooklyn/MetroTech</td><td>Boro Zone</td></tr><tr><td>66</td><td>Brooklyn</td><td>DUMBO/Vinegar Hill</td><td>Boro Zone</td></tr><tr><td>67</td><td>Brooklyn</td><td>Dyker Heights</td><td>Boro Zone</td></tr><tr><td>68</td><td>Manhattan</td><td>East Chelsea</td><td>Yellow Zone</td></tr><tr><td>69</td><td>Bronx</td><td>East Concourse/Concourse Village</td><td>Boro Zone</td></tr><tr><td>70</td><td>Queens</td><td>East Elmhurst</td><td>Boro Zone</td></tr><tr><td>71</td><td>Brooklyn</td><td>East Flatbush/Farragut</td><td>Boro Zone</td></tr><tr><td>72</td><td>Brooklyn</td><td>East Flatbush/Remsen Village</td><td>Boro Zone</td></tr><tr><td>73</td><td>Queens</td><td>East Flushing</td><td>Boro Zone</td></tr><tr><td>74</td><td>Manhattan</td><td>East Harlem North</td><td>Boro Zone</td></tr><tr><td>75</td><td>Manhattan</td><td>East Harlem South</td><td>Boro Zone</td></tr><tr><td>76</td><td>Brooklyn</td><td>East New York</td><td>Boro Zone</td></tr><tr><td>77</td><td>Brooklyn</td><td>East New York/Pennsylvania Avenue</td><td>Boro Zone</td></tr><tr><td>78</td><td>Bronx</td><td>East Tremont</td><td>Boro Zone</td></tr><tr><td>79</td><td>Manhattan</td><td>East Village</td><td>Yellow Zone</td></tr><tr><td>80</td><td>Brooklyn</td><td>East Williamsburg</td><td>Boro Zone</td></tr><tr><td>81</td><td>Bronx</td><td>Eastchester</td><td>Boro Zone</td></tr><tr><td>82</td><td>Queens</td><td>Elmhurst</td><td>Boro Zone</td></tr><tr><td>83</td><td>Queens</td><td>Elmhurst/Maspeth</td><td>Boro Zone</td></tr><tr><td>84</td><td>Staten Island</td><td>Eltingville/Annadale/Prince's Bay</td><td>Boro Zone</td></tr><tr><td>85</td><td>Brooklyn</td><td>Erasmus</td><td>Boro Zone</td></tr><tr><td>86</td><td>Queens</td><td>Far Rockaway</td><td>Boro Zone</td></tr><tr><td>87</td><td>Manhattan</td><td>Financial District North</td><td>Yellow Zone</td></tr><tr><td>88</td><td>Manhattan</td><td>Financial District South</td><td>Yellow Zone</td></tr><tr><td>89</td><td>Brooklyn</td><td>Flatbush/Ditmas Park</td><td>Boro Zone</td></tr><tr><td>90</td><td>Manhattan</td><td>Flatiron</td><td>Yellow Zone</td></tr><tr><td>91</td><td>Brooklyn</td><td>Flatlands</td><td>Boro Zone</td></tr><tr><td>92</td><td>Queens</td><td>Flushing</td><td>Boro Zone</td></tr><tr><td>93</td><td>Queens</td><td>Flushing Meadows-Corona Park</td><td>Boro Zone</td></tr><tr><td>94</td><td>Bronx</td><td>Fordham South</td><td>Boro Zone</td></tr><tr><td>95</td><td>Queens</td><td>Forest Hills</td><td>Boro Zone</td></tr><tr><td>96</td><td>Queens</td><td>Forest Park/Highland Park</td><td>Boro Zone</td></tr><tr><td>97</td><td>Brooklyn</td><td>Fort Greene</td><td>Boro Zone</td></tr><tr><td>98</td><td>Queens</td><td>Fresh Meadows</td><td>Boro Zone</td></tr><tr><td>99</td><td>Staten Island</td><td>Freshkills Park</td><td>Boro Zone</td></tr><tr><td>100</td><td>Manhattan</td><td>Garment District</td><td>Yellow Zone</td></tr><tr><td>101</td><td>Queens</td><td>Glen Oaks</td><td>Boro Zone</td></tr><tr><td>102</td><td>Queens</td><td>Glendale</td><td>Boro Zone</td></tr><tr><td>103</td><td>Manhattan</td><td>Governor's Island/Ellis Island/Liberty Island</td><td>Yellow Zone</td></tr><tr><td>104</td><td>Manhattan</td><td>Governor's Island/Ellis Island/Liberty Island</td><td>Yellow Zone</td></tr><tr><td>105</td><td>Manhattan</td><td>Governor's Island/Ellis Island/Liberty Island</td><td>Yellow Zone</td></tr><tr><td>106</td><td>Brooklyn</td><td>Gowanus</td><td>Boro Zone</td></tr><tr><td>107</td><td>Manhattan</td><td>Gramercy</td><td>Yellow Zone</td></tr><tr><td>108</td><td>Brooklyn</td><td>Gravesend</td><td>Boro Zone</td></tr><tr><td>109</td><td>Staten Island</td><td>Great Kills</td><td>Boro Zone</td></tr><tr><td>110</td><td>Staten Island</td><td>Great Kills Park</td><td>Boro Zone</td></tr><tr><td>111</td><td>Brooklyn</td><td>Green-Wood Cemetery</td><td>Boro Zone</td></tr><tr><td>112</td><td>Brooklyn</td><td>Greenpoint</td><td>Boro Zone</td></tr><tr><td>113</td><td>Manhattan</td><td>Greenwich Village North</td><td>Yellow Zone</td></tr><tr><td>114</td><td>Manhattan</td><td>Greenwich Village South</td><td>Yellow Zone</td></tr><tr><td>115</td><td>Staten Island</td><td>Grymes Hill/Clifton</td><td>Boro Zone</td></tr><tr><td>116</td><td>Manhattan</td><td>Hamilton Heights</td><td>Boro Zone</td></tr><tr><td>117</td><td>Queens</td><td>Hammels/Arverne</td><td>Boro Zone</td></tr><tr><td>118</td><td>Staten Island</td><td>Heartland Village/Todt Hill</td><td>Boro Zone</td></tr><tr><td>119</td><td>Bronx</td><td>Highbridge</td><td>Boro Zone</td></tr><tr><td>120</td><td>Manhattan</td><td>Highbridge Park</td><td>Boro Zone</td></tr><tr><td>121</td><td>Queens</td><td>Hillcrest/Pomonok</td><td>Boro Zone</td></tr><tr><td>122</td><td>Queens</td><td>Hollis</td><td>Boro Zone</td></tr><tr><td>123</td><td>Brooklyn</td><td>Homecrest</td><td>Boro Zone</td></tr><tr><td>124</td><td>Queens</td><td>Howard Beach</td><td>Boro Zone</td></tr><tr><td>125</td><td>Manhattan</td><td>Hudson Sq</td><td>Yellow Zone</td></tr><tr><td>126</td><td>Bronx</td><td>Hunts Point</td><td>Boro Zone</td></tr><tr><td>127</td><td>Manhattan</td><td>Inwood</td><td>Boro Zone</td></tr><tr><td>128</td><td>Manhattan</td><td>Inwood Hill Park</td><td>Boro Zone</td></tr><tr><td>129</td><td>Queens</td><td>Jackson Heights</td><td>Boro Zone</td></tr><tr><td>130</td><td>Queens</td><td>Jamaica</td><td>Boro Zone</td></tr><tr><td>131</td><td>Queens</td><td>Jamaica Estates</td><td>Boro Zone</td></tr><tr><td>132</td><td>Queens</td><td>JFK Airport</td><td>Airports</td></tr><tr><td>133</td><td>Brooklyn</td><td>Kensington</td><td>Boro Zone</td></tr><tr><td>134</td><td>Queens</td><td>Kew Gardens</td><td>Boro Zone</td></tr><tr><td>135</td><td>Queens</td><td>Kew Gardens Hills</td><td>Boro Zone</td></tr><tr><td>136</td><td>Bronx</td><td>Kingsbridge Heights</td><td>Boro Zone</td></tr><tr><td>137</td><td>Manhattan</td><td>Kips Bay</td><td>Yellow Zone</td></tr><tr><td>138</td><td>Queens</td><td>LaGuardia Airport</td><td>Airports</td></tr><tr><td>139</td><td>Queens</td><td>Laurelton</td><td>Boro Zone</td></tr><tr><td>140</td><td>Manhattan</td><td>Lenox Hill East</td><td>Yellow Zone</td></tr><tr><td>141</td><td>Manhattan</td><td>Lenox Hill West</td><td>Yellow Zone</td></tr><tr><td>142</td><td>Manhattan</td><td>Lincoln Square East</td><td>Yellow Zone</td></tr><tr><td>143</td><td>Manhattan</td><td>Lincoln Square West</td><td>Yellow Zone</td></tr><tr><td>144</td><td>Manhattan</td><td>Little Italy/NoLiTa</td><td>Yellow Zone</td></tr><tr><td>145</td><td>Queens</td><td>Long Island City/Hunters Point</td><td>Boro Zone</td></tr><tr><td>146</td><td>Queens</td><td>Long Island City/Queens Plaza</td><td>Boro Zone</td></tr><tr><td>147</td><td>Bronx</td><td>Longwood</td><td>Boro Zone</td></tr><tr><td>148</td><td>Manhattan</td><td>Lower East Side</td><td>Yellow Zone</td></tr><tr><td>149</td><td>Brooklyn</td><td>Madison</td><td>Boro Zone</td></tr><tr><td>150</td><td>Brooklyn</td><td>Manhattan Beach</td><td>Boro Zone</td></tr><tr><td>151</td><td>Manhattan</td><td>Manhattan Valley</td><td>Yellow Zone</td></tr><tr><td>152</td><td>Manhattan</td><td>Manhattanville</td><td>Boro Zone</td></tr><tr><td>153</td><td>Manhattan</td><td>Marble Hill</td><td>Boro Zone</td></tr><tr><td>154</td><td>Brooklyn</td><td>Marine Park/Floyd Bennett Field</td><td>Boro Zone</td></tr><tr><td>155</td><td>Brooklyn</td><td>Marine Park/Mill Basin</td><td>Boro Zone</td></tr><tr><td>156</td><td>Staten Island</td><td>Mariners Harbor</td><td>Boro Zone</td></tr><tr><td>157</td><td>Queens</td><td>Maspeth</td><td>Boro Zone</td></tr><tr><td>158</td><td>Manhattan</td><td>Meatpacking/West Village West</td><td>Yellow Zone</td></tr><tr><td>159</td><td>Bronx</td><td>Melrose South</td><td>Boro Zone</td></tr><tr><td>160</td><td>Queens</td><td>Middle Village</td><td>Boro Zone</td></tr><tr><td>161</td><td>Manhattan</td><td>Midtown Center</td><td>Yellow Zone</td></tr><tr><td>162</td><td>Manhattan</td><td>Midtown East</td><td>Yellow Zone</td></tr><tr><td>163</td><td>Manhattan</td><td>Midtown North</td><td>Yellow Zone</td></tr><tr><td>164</td><td>Manhattan</td><td>Midtown South</td><td>Yellow Zone</td></tr><tr><td>165</td><td>Brooklyn</td><td>Midwood</td><td>Boro Zone</td></tr><tr><td>166</td><td>Manhattan</td><td>Morningside Heights</td><td>Boro Zone</td></tr><tr><td>167</td><td>Bronx</td><td>Morrisania/Melrose</td><td>Boro Zone</td></tr><tr><td>168</td><td>Bronx</td><td>Mott Haven/Port Morris</td><td>Boro Zone</td></tr><tr><td>169</td><td>Bronx</td><td>Mount Hope</td><td>Boro Zone</td></tr><tr><td>170</td><td>Manhattan</td><td>Murray Hill</td><td>Yellow Zone</td></tr><tr><td>171</td><td>Queens</td><td>Murray Hill-Queens</td><td>Boro Zone</td></tr><tr><td>172</td><td>Staten Island</td><td>New Dorp/Midland Beach</td><td>Boro Zone</td></tr><tr><td>173</td><td>Queens</td><td>North Corona</td><td>Boro Zone</td></tr><tr><td>174</td><td>Bronx</td><td>Norwood</td><td>Boro Zone</td></tr><tr><td>175</td><td>Queens</td><td>Oakland Gardens</td><td>Boro Zone</td></tr><tr><td>176</td><td>Staten Island</td><td>Oakwood</td><td>Boro Zone</td></tr><tr><td>177</td><td>Brooklyn</td><td>Ocean Hill</td><td>Boro Zone</td></tr><tr><td>178</td><td>Brooklyn</td><td>Ocean Parkway South</td><td>Boro Zone</td></tr><tr><td>179</td><td>Queens</td><td>Old Astoria</td><td>Boro Zone</td></tr><tr><td>180</td><td>Queens</td><td>Ozone Park</td><td>Boro Zone</td></tr><tr><td>181</td><td>Brooklyn</td><td>Park Slope</td><td>Boro Zone</td></tr><tr><td>182</td><td>Bronx</td><td>Parkchester</td><td>Boro Zone</td></tr><tr><td>183</td><td>Bronx</td><td>Pelham Bay</td><td>Boro Zone</td></tr><tr><td>184</td><td>Bronx</td><td>Pelham Bay Park</td><td>Boro Zone</td></tr><tr><td>185</td><td>Bronx</td><td>Pelham Parkway</td><td>Boro Zone</td></tr><tr><td>186</td><td>Manhattan</td><td>Penn Station/Madison Sq West</td><td>Yellow Zone</td></tr><tr><td>187</td><td>Staten Island</td><td>Port Richmond</td><td>Boro Zone</td></tr><tr><td>188</td><td>Brooklyn</td><td>Prospect-Lefferts Gardens</td><td>Boro Zone</td></tr><tr><td>189</td><td>Brooklyn</td><td>Prospect Heights</td><td>Boro Zone</td></tr><tr><td>190</td><td>Brooklyn</td><td>Prospect Park</td><td>Boro Zone</td></tr><tr><td>191</td><td>Queens</td><td>Queens Village</td><td>Boro Zone</td></tr><tr><td>192</td><td>Queens</td><td>Queensboro Hill</td><td>Boro Zone</td></tr><tr><td>193</td><td>Queens</td><td>Queensbridge/Ravenswood</td><td>Boro Zone</td></tr><tr><td>194</td><td>Manhattan</td><td>Randalls Island</td><td>Yellow Zone</td></tr><tr><td>195</td><td>Brooklyn</td><td>Red Hook</td><td>Boro Zone</td></tr><tr><td>196</td><td>Queens</td><td>Rego Park</td><td>Boro Zone</td></tr><tr><td>197</td><td>Queens</td><td>Richmond Hill</td><td>Boro Zone</td></tr><tr><td>198</td><td>Queens</td><td>Ridgewood</td><td>Boro Zone</td></tr><tr><td>199</td><td>Bronx</td><td>Rikers Island</td><td>Boro Zone</td></tr><tr><td>200</td><td>Bronx</td><td>Riverdale/North Riverdale/Fieldston</td><td>Boro Zone</td></tr><tr><td>201</td><td>Queens</td><td>Rockaway Park</td><td>Boro Zone</td></tr><tr><td>202</td><td>Manhattan</td><td>Roosevelt Island</td><td>Boro Zone</td></tr><tr><td>203</td><td>Queens</td><td>Rosedale</td><td>Boro Zone</td></tr><tr><td>204</td><td>Staten Island</td><td>Rossville/Woodrow</td><td>Boro Zone</td></tr><tr><td>205</td><td>Queens</td><td>Saint Albans</td><td>Boro Zone</td></tr><tr><td>206</td><td>Staten Island</td><td>Saint George/New Brighton</td><td>Boro Zone</td></tr><tr><td>207</td><td>Queens</td><td>Saint Michaels Cemetery/Woodside</td><td>Boro Zone</td></tr><tr><td>208</td><td>Bronx</td><td>Schuylerville/Edgewater Park</td><td>Boro Zone</td></tr><tr><td>209</td><td>Manhattan</td><td>Seaport</td><td>Yellow Zone</td></tr><tr><td>210</td><td>Brooklyn</td><td>Sheepshead Bay</td><td>Boro Zone</td></tr><tr><td>211</td><td>Manhattan</td><td>SoHo</td><td>Yellow Zone</td></tr><tr><td>212</td><td>Bronx</td><td>Soundview/Bruckner</td><td>Boro Zone</td></tr><tr><td>213</td><td>Bronx</td><td>Soundview/Castle Hill</td><td>Boro Zone</td></tr><tr><td>214</td><td>Staten Island</td><td>South Beach/Dongan Hills</td><td>Boro Zone</td></tr><tr><td>215</td><td>Queens</td><td>South Jamaica</td><td>Boro Zone</td></tr><tr><td>216</td><td>Queens</td><td>South Ozone Park</td><td>Boro Zone</td></tr><tr><td>217</td><td>Brooklyn</td><td>South Williamsburg</td><td>Boro Zone</td></tr><tr><td>218</td><td>Queens</td><td>Springfield Gardens North</td><td>Boro Zone</td></tr><tr><td>219</td><td>Queens</td><td>Springfield Gardens South</td><td>Boro Zone</td></tr><tr><td>220</td><td>Bronx</td><td>Spuyten Duyvil/Kingsbridge</td><td>Boro Zone</td></tr><tr><td>221</td><td>Staten Island</td><td>Stapleton</td><td>Boro Zone</td></tr><tr><td>222</td><td>Brooklyn</td><td>Starrett City</td><td>Boro Zone</td></tr><tr><td>223</td><td>Queens</td><td>Steinway</td><td>Boro Zone</td></tr><tr><td>224</td><td>Manhattan</td><td>Stuy Town/Peter Cooper Village</td><td>Yellow Zone</td></tr><tr><td>225</td><td>Brooklyn</td><td>Stuyvesant Heights</td><td>Boro Zone</td></tr><tr><td>226</td><td>Queens</td><td>Sunnyside</td><td>Boro Zone</td></tr><tr><td>227</td><td>Brooklyn</td><td>Sunset Park East</td><td>Boro Zone</td></tr><tr><td>228</td><td>Brooklyn</td><td>Sunset Park West</td><td>Boro Zone</td></tr><tr><td>229</td><td>Manhattan</td><td>Sutton Place/Turtle Bay North</td><td>Yellow Zone</td></tr><tr><td>230</td><td>Manhattan</td><td>Times Sq/Theatre District</td><td>Yellow Zone</td></tr><tr><td>231</td><td>Manhattan</td><td>TriBeCa/Civic Center</td><td>Yellow Zone</td></tr><tr><td>232</td><td>Manhattan</td><td>Two Bridges/Seward Park</td><td>Yellow Zone</td></tr><tr><td>233</td><td>Manhattan</td><td>UN/Turtle Bay South</td><td>Yellow Zone</td></tr><tr><td>234</td><td>Manhattan</td><td>Union Sq</td><td>Yellow Zone</td></tr><tr><td>235</td><td>Bronx</td><td>University Heights/Morris Heights</td><td>Boro Zone</td></tr><tr><td>236</td><td>Manhattan</td><td>Upper East Side North</td><td>Yellow Zone</td></tr><tr><td>237</td><td>Manhattan</td><td>Upper East Side South</td><td>Yellow Zone</td></tr><tr><td>238</td><td>Manhattan</td><td>Upper West Side North</td><td>Yellow Zone</td></tr><tr><td>239</td><td>Manhattan</td><td>Upper West Side South</td><td>Yellow Zone</td></tr><tr><td>240</td><td>Bronx</td><td>Van Cortlandt Park</td><td>Boro Zone</td></tr><tr><td>241</td><td>Bronx</td><td>Van Cortlandt Village</td><td>Boro Zone</td></tr><tr><td>242</td><td>Bronx</td><td>Van Nest/Morris Park</td><td>Boro Zone</td></tr><tr><td>243</td><td>Manhattan</td><td>Washington Heights North</td><td>Boro Zone</td></tr><tr><td>244</td><td>Manhattan</td><td>Washington Heights South</td><td>Boro Zone</td></tr><tr><td>245</td><td>Staten Island</td><td>West Brighton</td><td>Boro Zone</td></tr><tr><td>246</td><td>Manhattan</td><td>West Chelsea/Hudson Yards</td><td>Yellow Zone</td></tr><tr><td>247</td><td>Bronx</td><td>West Concourse</td><td>Boro Zone</td></tr><tr><td>248</td><td>Bronx</td><td>West Farms/Bronx River</td><td>Boro Zone</td></tr><tr><td>249</td><td>Manhattan</td><td>West Village</td><td>Yellow Zone</td></tr><tr><td>250</td><td>Bronx</td><td>Westchester Village/Unionport</td><td>Boro Zone</td></tr><tr><td>251</td><td>Staten Island</td><td>Westerleigh</td><td>Boro Zone</td></tr><tr><td>252</td><td>Queens</td><td>Whitestone</td><td>Boro Zone</td></tr><tr><td>253</td><td>Queens</td><td>Willets Point</td><td>Boro Zone</td></tr><tr><td>254</td><td>Bronx</td><td>Williamsbridge/Olinville</td><td>Boro Zone</td></tr><tr><td>255</td><td>Brooklyn</td><td>Williamsburg (North Side)</td><td>Boro Zone</td></tr><tr><td>256</td><td>Brooklyn</td><td>Williamsburg (South Side)</td><td>Boro Zone</td></tr><tr><td>257</td><td>Brooklyn</td><td>Windsor Terrace</td><td>Boro Zone</td></tr><tr><td>258</td><td>Queens</td><td>Woodhaven</td><td>Boro Zone</td></tr><tr><td>259</td><td>Bronx</td><td>Woodlawn/Wakefield</td><td>Boro Zone</td></tr><tr><td>260</td><td>Queens</td><td>Woodside</td><td>Boro Zone</td></tr><tr><td>261</td><td>Manhattan</td><td>World Trade Center</td><td>Yellow Zone</td></tr><tr><td>262</td><td>Manhattan</td><td>Yorkville East</td><td>Yellow Zone</td></tr><tr><td>263</td><td>Manhattan</td><td>Yorkville West</td><td>Yellow Zone</td></tr><tr><td>264</td><td>Unknown</td><td>NV</td><td>N/A</td></tr><tr><td>265</td><td>Unknown</td><td>NA</td><td>N/A</td></tr></tbody></table></div>"
      ]
     },
     "metadata": {
      "application/vnd.databricks.v1+output": {
       "addedWidgets": {},
       "aggData": [],
       "aggError": "",
       "aggOverflow": false,
       "aggSchema": [],
       "aggSeriesLimitReached": false,
       "aggType": "",
       "arguments": {},
       "columnCustomDisplayInfos": {},
       "data": [
        [
         1,
         "EWR",
         "Newark Airport",
         "EWR"
        ],
        [
         2,
         "Queens",
         "Jamaica Bay",
         "Boro Zone"
        ],
        [
         3,
         "Bronx",
         "Allerton/Pelham Gardens",
         "Boro Zone"
        ],
        [
         4,
         "Manhattan",
         "Alphabet City",
         "Yellow Zone"
        ],
        [
         5,
         "Staten Island",
         "Arden Heights",
         "Boro Zone"
        ],
        [
         6,
         "Staten Island",
         "Arrochar/Fort Wadsworth",
         "Boro Zone"
        ],
        [
         7,
         "Queens",
         "Astoria",
         "Boro Zone"
        ],
        [
         8,
         "Queens",
         "Astoria Park",
         "Boro Zone"
        ],
        [
         9,
         "Queens",
         "Auburndale",
         "Boro Zone"
        ],
        [
         10,
         "Queens",
         "Baisley Park",
         "Boro Zone"
        ],
        [
         11,
         "Brooklyn",
         "Bath Beach",
         "Boro Zone"
        ],
        [
         12,
         "Manhattan",
         "Battery Park",
         "Yellow Zone"
        ],
        [
         13,
         "Manhattan",
         "Battery Park City",
         "Yellow Zone"
        ],
        [
         14,
         "Brooklyn",
         "Bay Ridge",
         "Boro Zone"
        ],
        [
         15,
         "Queens",
         "Bay Terrace/Fort Totten",
         "Boro Zone"
        ],
        [
         16,
         "Queens",
         "Bayside",
         "Boro Zone"
        ],
        [
         17,
         "Brooklyn",
         "Bedford",
         "Boro Zone"
        ],
        [
         18,
         "Bronx",
         "Bedford Park",
         "Boro Zone"
        ],
        [
         19,
         "Queens",
         "Bellerose",
         "Boro Zone"
        ],
        [
         20,
         "Bronx",
         "Belmont",
         "Boro Zone"
        ],
        [
         21,
         "Brooklyn",
         "Bensonhurst East",
         "Boro Zone"
        ],
        [
         22,
         "Brooklyn",
         "Bensonhurst West",
         "Boro Zone"
        ],
        [
         23,
         "Staten Island",
         "Bloomfield/Emerson Hill",
         "Boro Zone"
        ],
        [
         24,
         "Manhattan",
         "Bloomingdale",
         "Yellow Zone"
        ],
        [
         25,
         "Brooklyn",
         "Boerum Hill",
         "Boro Zone"
        ],
        [
         26,
         "Brooklyn",
         "Borough Park",
         "Boro Zone"
        ],
        [
         27,
         "Queens",
         "Breezy Point/Fort Tilden/Riis Beach",
         "Boro Zone"
        ],
        [
         28,
         "Queens",
         "Briarwood/Jamaica Hills",
         "Boro Zone"
        ],
        [
         29,
         "Brooklyn",
         "Brighton Beach",
         "Boro Zone"
        ],
        [
         30,
         "Queens",
         "Broad Channel",
         "Boro Zone"
        ],
        [
         31,
         "Bronx",
         "Bronx Park",
         "Boro Zone"
        ],
        [
         32,
         "Bronx",
         "Bronxdale",
         "Boro Zone"
        ],
        [
         33,
         "Brooklyn",
         "Brooklyn Heights",
         "Boro Zone"
        ],
        [
         34,
         "Brooklyn",
         "Brooklyn Navy Yard",
         "Boro Zone"
        ],
        [
         35,
         "Brooklyn",
         "Brownsville",
         "Boro Zone"
        ],
        [
         36,
         "Brooklyn",
         "Bushwick North",
         "Boro Zone"
        ],
        [
         37,
         "Brooklyn",
         "Bushwick South",
         "Boro Zone"
        ],
        [
         38,
         "Queens",
         "Cambria Heights",
         "Boro Zone"
        ],
        [
         39,
         "Brooklyn",
         "Canarsie",
         "Boro Zone"
        ],
        [
         40,
         "Brooklyn",
         "Carroll Gardens",
         "Boro Zone"
        ],
        [
         41,
         "Manhattan",
         "Central Harlem",
         "Boro Zone"
        ],
        [
         42,
         "Manhattan",
         "Central Harlem North",
         "Boro Zone"
        ],
        [
         43,
         "Manhattan",
         "Central Park",
         "Yellow Zone"
        ],
        [
         44,
         "Staten Island",
         "Charleston/Tottenville",
         "Boro Zone"
        ],
        [
         45,
         "Manhattan",
         "Chinatown",
         "Yellow Zone"
        ],
        [
         46,
         "Bronx",
         "City Island",
         "Boro Zone"
        ],
        [
         47,
         "Bronx",
         "Claremont/Bathgate",
         "Boro Zone"
        ],
        [
         48,
         "Manhattan",
         "Clinton East",
         "Yellow Zone"
        ],
        [
         49,
         "Brooklyn",
         "Clinton Hill",
         "Boro Zone"
        ],
        [
         50,
         "Manhattan",
         "Clinton West",
         "Yellow Zone"
        ],
        [
         51,
         "Bronx",
         "Co-Op City",
         "Boro Zone"
        ],
        [
         52,
         "Brooklyn",
         "Cobble Hill",
         "Boro Zone"
        ],
        [
         53,
         "Queens",
         "College Point",
         "Boro Zone"
        ],
        [
         54,
         "Brooklyn",
         "Columbia Street",
         "Boro Zone"
        ],
        [
         55,
         "Brooklyn",
         "Coney Island",
         "Boro Zone"
        ],
        [
         56,
         "Queens",
         "Corona",
         "Boro Zone"
        ],
        [
         57,
         "Queens",
         "Corona",
         "Boro Zone"
        ],
        [
         58,
         "Bronx",
         "Country Club",
         "Boro Zone"
        ],
        [
         59,
         "Bronx",
         "Crotona Park",
         "Boro Zone"
        ],
        [
         60,
         "Bronx",
         "Crotona Park East",
         "Boro Zone"
        ],
        [
         61,
         "Brooklyn",
         "Crown Heights North",
         "Boro Zone"
        ],
        [
         62,
         "Brooklyn",
         "Crown Heights South",
         "Boro Zone"
        ],
        [
         63,
         "Brooklyn",
         "Cypress Hills",
         "Boro Zone"
        ],
        [
         64,
         "Queens",
         "Douglaston",
         "Boro Zone"
        ],
        [
         65,
         "Brooklyn",
         "Downtown Brooklyn/MetroTech",
         "Boro Zone"
        ],
        [
         66,
         "Brooklyn",
         "DUMBO/Vinegar Hill",
         "Boro Zone"
        ],
        [
         67,
         "Brooklyn",
         "Dyker Heights",
         "Boro Zone"
        ],
        [
         68,
         "Manhattan",
         "East Chelsea",
         "Yellow Zone"
        ],
        [
         69,
         "Bronx",
         "East Concourse/Concourse Village",
         "Boro Zone"
        ],
        [
         70,
         "Queens",
         "East Elmhurst",
         "Boro Zone"
        ],
        [
         71,
         "Brooklyn",
         "East Flatbush/Farragut",
         "Boro Zone"
        ],
        [
         72,
         "Brooklyn",
         "East Flatbush/Remsen Village",
         "Boro Zone"
        ],
        [
         73,
         "Queens",
         "East Flushing",
         "Boro Zone"
        ],
        [
         74,
         "Manhattan",
         "East Harlem North",
         "Boro Zone"
        ],
        [
         75,
         "Manhattan",
         "East Harlem South",
         "Boro Zone"
        ],
        [
         76,
         "Brooklyn",
         "East New York",
         "Boro Zone"
        ],
        [
         77,
         "Brooklyn",
         "East New York/Pennsylvania Avenue",
         "Boro Zone"
        ],
        [
         78,
         "Bronx",
         "East Tremont",
         "Boro Zone"
        ],
        [
         79,
         "Manhattan",
         "East Village",
         "Yellow Zone"
        ],
        [
         80,
         "Brooklyn",
         "East Williamsburg",
         "Boro Zone"
        ],
        [
         81,
         "Bronx",
         "Eastchester",
         "Boro Zone"
        ],
        [
         82,
         "Queens",
         "Elmhurst",
         "Boro Zone"
        ],
        [
         83,
         "Queens",
         "Elmhurst/Maspeth",
         "Boro Zone"
        ],
        [
         84,
         "Staten Island",
         "Eltingville/Annadale/Prince's Bay",
         "Boro Zone"
        ],
        [
         85,
         "Brooklyn",
         "Erasmus",
         "Boro Zone"
        ],
        [
         86,
         "Queens",
         "Far Rockaway",
         "Boro Zone"
        ],
        [
         87,
         "Manhattan",
         "Financial District North",
         "Yellow Zone"
        ],
        [
         88,
         "Manhattan",
         "Financial District South",
         "Yellow Zone"
        ],
        [
         89,
         "Brooklyn",
         "Flatbush/Ditmas Park",
         "Boro Zone"
        ],
        [
         90,
         "Manhattan",
         "Flatiron",
         "Yellow Zone"
        ],
        [
         91,
         "Brooklyn",
         "Flatlands",
         "Boro Zone"
        ],
        [
         92,
         "Queens",
         "Flushing",
         "Boro Zone"
        ],
        [
         93,
         "Queens",
         "Flushing Meadows-Corona Park",
         "Boro Zone"
        ],
        [
         94,
         "Bronx",
         "Fordham South",
         "Boro Zone"
        ],
        [
         95,
         "Queens",
         "Forest Hills",
         "Boro Zone"
        ],
        [
         96,
         "Queens",
         "Forest Park/Highland Park",
         "Boro Zone"
        ],
        [
         97,
         "Brooklyn",
         "Fort Greene",
         "Boro Zone"
        ],
        [
         98,
         "Queens",
         "Fresh Meadows",
         "Boro Zone"
        ],
        [
         99,
         "Staten Island",
         "Freshkills Park",
         "Boro Zone"
        ],
        [
         100,
         "Manhattan",
         "Garment District",
         "Yellow Zone"
        ],
        [
         101,
         "Queens",
         "Glen Oaks",
         "Boro Zone"
        ],
        [
         102,
         "Queens",
         "Glendale",
         "Boro Zone"
        ],
        [
         103,
         "Manhattan",
         "Governor's Island/Ellis Island/Liberty Island",
         "Yellow Zone"
        ],
        [
         104,
         "Manhattan",
         "Governor's Island/Ellis Island/Liberty Island",
         "Yellow Zone"
        ],
        [
         105,
         "Manhattan",
         "Governor's Island/Ellis Island/Liberty Island",
         "Yellow Zone"
        ],
        [
         106,
         "Brooklyn",
         "Gowanus",
         "Boro Zone"
        ],
        [
         107,
         "Manhattan",
         "Gramercy",
         "Yellow Zone"
        ],
        [
         108,
         "Brooklyn",
         "Gravesend",
         "Boro Zone"
        ],
        [
         109,
         "Staten Island",
         "Great Kills",
         "Boro Zone"
        ],
        [
         110,
         "Staten Island",
         "Great Kills Park",
         "Boro Zone"
        ],
        [
         111,
         "Brooklyn",
         "Green-Wood Cemetery",
         "Boro Zone"
        ],
        [
         112,
         "Brooklyn",
         "Greenpoint",
         "Boro Zone"
        ],
        [
         113,
         "Manhattan",
         "Greenwich Village North",
         "Yellow Zone"
        ],
        [
         114,
         "Manhattan",
         "Greenwich Village South",
         "Yellow Zone"
        ],
        [
         115,
         "Staten Island",
         "Grymes Hill/Clifton",
         "Boro Zone"
        ],
        [
         116,
         "Manhattan",
         "Hamilton Heights",
         "Boro Zone"
        ],
        [
         117,
         "Queens",
         "Hammels/Arverne",
         "Boro Zone"
        ],
        [
         118,
         "Staten Island",
         "Heartland Village/Todt Hill",
         "Boro Zone"
        ],
        [
         119,
         "Bronx",
         "Highbridge",
         "Boro Zone"
        ],
        [
         120,
         "Manhattan",
         "Highbridge Park",
         "Boro Zone"
        ],
        [
         121,
         "Queens",
         "Hillcrest/Pomonok",
         "Boro Zone"
        ],
        [
         122,
         "Queens",
         "Hollis",
         "Boro Zone"
        ],
        [
         123,
         "Brooklyn",
         "Homecrest",
         "Boro Zone"
        ],
        [
         124,
         "Queens",
         "Howard Beach",
         "Boro Zone"
        ],
        [
         125,
         "Manhattan",
         "Hudson Sq",
         "Yellow Zone"
        ],
        [
         126,
         "Bronx",
         "Hunts Point",
         "Boro Zone"
        ],
        [
         127,
         "Manhattan",
         "Inwood",
         "Boro Zone"
        ],
        [
         128,
         "Manhattan",
         "Inwood Hill Park",
         "Boro Zone"
        ],
        [
         129,
         "Queens",
         "Jackson Heights",
         "Boro Zone"
        ],
        [
         130,
         "Queens",
         "Jamaica",
         "Boro Zone"
        ],
        [
         131,
         "Queens",
         "Jamaica Estates",
         "Boro Zone"
        ],
        [
         132,
         "Queens",
         "JFK Airport",
         "Airports"
        ],
        [
         133,
         "Brooklyn",
         "Kensington",
         "Boro Zone"
        ],
        [
         134,
         "Queens",
         "Kew Gardens",
         "Boro Zone"
        ],
        [
         135,
         "Queens",
         "Kew Gardens Hills",
         "Boro Zone"
        ],
        [
         136,
         "Bronx",
         "Kingsbridge Heights",
         "Boro Zone"
        ],
        [
         137,
         "Manhattan",
         "Kips Bay",
         "Yellow Zone"
        ],
        [
         138,
         "Queens",
         "LaGuardia Airport",
         "Airports"
        ],
        [
         139,
         "Queens",
         "Laurelton",
         "Boro Zone"
        ],
        [
         140,
         "Manhattan",
         "Lenox Hill East",
         "Yellow Zone"
        ],
        [
         141,
         "Manhattan",
         "Lenox Hill West",
         "Yellow Zone"
        ],
        [
         142,
         "Manhattan",
         "Lincoln Square East",
         "Yellow Zone"
        ],
        [
         143,
         "Manhattan",
         "Lincoln Square West",
         "Yellow Zone"
        ],
        [
         144,
         "Manhattan",
         "Little Italy/NoLiTa",
         "Yellow Zone"
        ],
        [
         145,
         "Queens",
         "Long Island City/Hunters Point",
         "Boro Zone"
        ],
        [
         146,
         "Queens",
         "Long Island City/Queens Plaza",
         "Boro Zone"
        ],
        [
         147,
         "Bronx",
         "Longwood",
         "Boro Zone"
        ],
        [
         148,
         "Manhattan",
         "Lower East Side",
         "Yellow Zone"
        ],
        [
         149,
         "Brooklyn",
         "Madison",
         "Boro Zone"
        ],
        [
         150,
         "Brooklyn",
         "Manhattan Beach",
         "Boro Zone"
        ],
        [
         151,
         "Manhattan",
         "Manhattan Valley",
         "Yellow Zone"
        ],
        [
         152,
         "Manhattan",
         "Manhattanville",
         "Boro Zone"
        ],
        [
         153,
         "Manhattan",
         "Marble Hill",
         "Boro Zone"
        ],
        [
         154,
         "Brooklyn",
         "Marine Park/Floyd Bennett Field",
         "Boro Zone"
        ],
        [
         155,
         "Brooklyn",
         "Marine Park/Mill Basin",
         "Boro Zone"
        ],
        [
         156,
         "Staten Island",
         "Mariners Harbor",
         "Boro Zone"
        ],
        [
         157,
         "Queens",
         "Maspeth",
         "Boro Zone"
        ],
        [
         158,
         "Manhattan",
         "Meatpacking/West Village West",
         "Yellow Zone"
        ],
        [
         159,
         "Bronx",
         "Melrose South",
         "Boro Zone"
        ],
        [
         160,
         "Queens",
         "Middle Village",
         "Boro Zone"
        ],
        [
         161,
         "Manhattan",
         "Midtown Center",
         "Yellow Zone"
        ],
        [
         162,
         "Manhattan",
         "Midtown East",
         "Yellow Zone"
        ],
        [
         163,
         "Manhattan",
         "Midtown North",
         "Yellow Zone"
        ],
        [
         164,
         "Manhattan",
         "Midtown South",
         "Yellow Zone"
        ],
        [
         165,
         "Brooklyn",
         "Midwood",
         "Boro Zone"
        ],
        [
         166,
         "Manhattan",
         "Morningside Heights",
         "Boro Zone"
        ],
        [
         167,
         "Bronx",
         "Morrisania/Melrose",
         "Boro Zone"
        ],
        [
         168,
         "Bronx",
         "Mott Haven/Port Morris",
         "Boro Zone"
        ],
        [
         169,
         "Bronx",
         "Mount Hope",
         "Boro Zone"
        ],
        [
         170,
         "Manhattan",
         "Murray Hill",
         "Yellow Zone"
        ],
        [
         171,
         "Queens",
         "Murray Hill-Queens",
         "Boro Zone"
        ],
        [
         172,
         "Staten Island",
         "New Dorp/Midland Beach",
         "Boro Zone"
        ],
        [
         173,
         "Queens",
         "North Corona",
         "Boro Zone"
        ],
        [
         174,
         "Bronx",
         "Norwood",
         "Boro Zone"
        ],
        [
         175,
         "Queens",
         "Oakland Gardens",
         "Boro Zone"
        ],
        [
         176,
         "Staten Island",
         "Oakwood",
         "Boro Zone"
        ],
        [
         177,
         "Brooklyn",
         "Ocean Hill",
         "Boro Zone"
        ],
        [
         178,
         "Brooklyn",
         "Ocean Parkway South",
         "Boro Zone"
        ],
        [
         179,
         "Queens",
         "Old Astoria",
         "Boro Zone"
        ],
        [
         180,
         "Queens",
         "Ozone Park",
         "Boro Zone"
        ],
        [
         181,
         "Brooklyn",
         "Park Slope",
         "Boro Zone"
        ],
        [
         182,
         "Bronx",
         "Parkchester",
         "Boro Zone"
        ],
        [
         183,
         "Bronx",
         "Pelham Bay",
         "Boro Zone"
        ],
        [
         184,
         "Bronx",
         "Pelham Bay Park",
         "Boro Zone"
        ],
        [
         185,
         "Bronx",
         "Pelham Parkway",
         "Boro Zone"
        ],
        [
         186,
         "Manhattan",
         "Penn Station/Madison Sq West",
         "Yellow Zone"
        ],
        [
         187,
         "Staten Island",
         "Port Richmond",
         "Boro Zone"
        ],
        [
         188,
         "Brooklyn",
         "Prospect-Lefferts Gardens",
         "Boro Zone"
        ],
        [
         189,
         "Brooklyn",
         "Prospect Heights",
         "Boro Zone"
        ],
        [
         190,
         "Brooklyn",
         "Prospect Park",
         "Boro Zone"
        ],
        [
         191,
         "Queens",
         "Queens Village",
         "Boro Zone"
        ],
        [
         192,
         "Queens",
         "Queensboro Hill",
         "Boro Zone"
        ],
        [
         193,
         "Queens",
         "Queensbridge/Ravenswood",
         "Boro Zone"
        ],
        [
         194,
         "Manhattan",
         "Randalls Island",
         "Yellow Zone"
        ],
        [
         195,
         "Brooklyn",
         "Red Hook",
         "Boro Zone"
        ],
        [
         196,
         "Queens",
         "Rego Park",
         "Boro Zone"
        ],
        [
         197,
         "Queens",
         "Richmond Hill",
         "Boro Zone"
        ],
        [
         198,
         "Queens",
         "Ridgewood",
         "Boro Zone"
        ],
        [
         199,
         "Bronx",
         "Rikers Island",
         "Boro Zone"
        ],
        [
         200,
         "Bronx",
         "Riverdale/North Riverdale/Fieldston",
         "Boro Zone"
        ],
        [
         201,
         "Queens",
         "Rockaway Park",
         "Boro Zone"
        ],
        [
         202,
         "Manhattan",
         "Roosevelt Island",
         "Boro Zone"
        ],
        [
         203,
         "Queens",
         "Rosedale",
         "Boro Zone"
        ],
        [
         204,
         "Staten Island",
         "Rossville/Woodrow",
         "Boro Zone"
        ],
        [
         205,
         "Queens",
         "Saint Albans",
         "Boro Zone"
        ],
        [
         206,
         "Staten Island",
         "Saint George/New Brighton",
         "Boro Zone"
        ],
        [
         207,
         "Queens",
         "Saint Michaels Cemetery/Woodside",
         "Boro Zone"
        ],
        [
         208,
         "Bronx",
         "Schuylerville/Edgewater Park",
         "Boro Zone"
        ],
        [
         209,
         "Manhattan",
         "Seaport",
         "Yellow Zone"
        ],
        [
         210,
         "Brooklyn",
         "Sheepshead Bay",
         "Boro Zone"
        ],
        [
         211,
         "Manhattan",
         "SoHo",
         "Yellow Zone"
        ],
        [
         212,
         "Bronx",
         "Soundview/Bruckner",
         "Boro Zone"
        ],
        [
         213,
         "Bronx",
         "Soundview/Castle Hill",
         "Boro Zone"
        ],
        [
         214,
         "Staten Island",
         "South Beach/Dongan Hills",
         "Boro Zone"
        ],
        [
         215,
         "Queens",
         "South Jamaica",
         "Boro Zone"
        ],
        [
         216,
         "Queens",
         "South Ozone Park",
         "Boro Zone"
        ],
        [
         217,
         "Brooklyn",
         "South Williamsburg",
         "Boro Zone"
        ],
        [
         218,
         "Queens",
         "Springfield Gardens North",
         "Boro Zone"
        ],
        [
         219,
         "Queens",
         "Springfield Gardens South",
         "Boro Zone"
        ],
        [
         220,
         "Bronx",
         "Spuyten Duyvil/Kingsbridge",
         "Boro Zone"
        ],
        [
         221,
         "Staten Island",
         "Stapleton",
         "Boro Zone"
        ],
        [
         222,
         "Brooklyn",
         "Starrett City",
         "Boro Zone"
        ],
        [
         223,
         "Queens",
         "Steinway",
         "Boro Zone"
        ],
        [
         224,
         "Manhattan",
         "Stuy Town/Peter Cooper Village",
         "Yellow Zone"
        ],
        [
         225,
         "Brooklyn",
         "Stuyvesant Heights",
         "Boro Zone"
        ],
        [
         226,
         "Queens",
         "Sunnyside",
         "Boro Zone"
        ],
        [
         227,
         "Brooklyn",
         "Sunset Park East",
         "Boro Zone"
        ],
        [
         228,
         "Brooklyn",
         "Sunset Park West",
         "Boro Zone"
        ],
        [
         229,
         "Manhattan",
         "Sutton Place/Turtle Bay North",
         "Yellow Zone"
        ],
        [
         230,
         "Manhattan",
         "Times Sq/Theatre District",
         "Yellow Zone"
        ],
        [
         231,
         "Manhattan",
         "TriBeCa/Civic Center",
         "Yellow Zone"
        ],
        [
         232,
         "Manhattan",
         "Two Bridges/Seward Park",
         "Yellow Zone"
        ],
        [
         233,
         "Manhattan",
         "UN/Turtle Bay South",
         "Yellow Zone"
        ],
        [
         234,
         "Manhattan",
         "Union Sq",
         "Yellow Zone"
        ],
        [
         235,
         "Bronx",
         "University Heights/Morris Heights",
         "Boro Zone"
        ],
        [
         236,
         "Manhattan",
         "Upper East Side North",
         "Yellow Zone"
        ],
        [
         237,
         "Manhattan",
         "Upper East Side South",
         "Yellow Zone"
        ],
        [
         238,
         "Manhattan",
         "Upper West Side North",
         "Yellow Zone"
        ],
        [
         239,
         "Manhattan",
         "Upper West Side South",
         "Yellow Zone"
        ],
        [
         240,
         "Bronx",
         "Van Cortlandt Park",
         "Boro Zone"
        ],
        [
         241,
         "Bronx",
         "Van Cortlandt Village",
         "Boro Zone"
        ],
        [
         242,
         "Bronx",
         "Van Nest/Morris Park",
         "Boro Zone"
        ],
        [
         243,
         "Manhattan",
         "Washington Heights North",
         "Boro Zone"
        ],
        [
         244,
         "Manhattan",
         "Washington Heights South",
         "Boro Zone"
        ],
        [
         245,
         "Staten Island",
         "West Brighton",
         "Boro Zone"
        ],
        [
         246,
         "Manhattan",
         "West Chelsea/Hudson Yards",
         "Yellow Zone"
        ],
        [
         247,
         "Bronx",
         "West Concourse",
         "Boro Zone"
        ],
        [
         248,
         "Bronx",
         "West Farms/Bronx River",
         "Boro Zone"
        ],
        [
         249,
         "Manhattan",
         "West Village",
         "Yellow Zone"
        ],
        [
         250,
         "Bronx",
         "Westchester Village/Unionport",
         "Boro Zone"
        ],
        [
         251,
         "Staten Island",
         "Westerleigh",
         "Boro Zone"
        ],
        [
         252,
         "Queens",
         "Whitestone",
         "Boro Zone"
        ],
        [
         253,
         "Queens",
         "Willets Point",
         "Boro Zone"
        ],
        [
         254,
         "Bronx",
         "Williamsbridge/Olinville",
         "Boro Zone"
        ],
        [
         255,
         "Brooklyn",
         "Williamsburg (North Side)",
         "Boro Zone"
        ],
        [
         256,
         "Brooklyn",
         "Williamsburg (South Side)",
         "Boro Zone"
        ],
        [
         257,
         "Brooklyn",
         "Windsor Terrace",
         "Boro Zone"
        ],
        [
         258,
         "Queens",
         "Woodhaven",
         "Boro Zone"
        ],
        [
         259,
         "Bronx",
         "Woodlawn/Wakefield",
         "Boro Zone"
        ],
        [
         260,
         "Queens",
         "Woodside",
         "Boro Zone"
        ],
        [
         261,
         "Manhattan",
         "World Trade Center",
         "Yellow Zone"
        ],
        [
         262,
         "Manhattan",
         "Yorkville East",
         "Yellow Zone"
        ],
        [
         263,
         "Manhattan",
         "Yorkville West",
         "Yellow Zone"
        ],
        [
         264,
         "Unknown",
         "NV",
         "N/A"
        ],
        [
         265,
         "Unknown",
         "NA",
         "N/A"
        ]
       ],
       "datasetInfos": [],
       "dbfsResultPath": null,
       "isJsonSchema": true,
       "metadata": {},
       "overflow": false,
       "plotOptions": {
        "customPlotOptions": {},
        "displayType": "table",
        "pivotAggregation": null,
        "pivotColumns": null,
        "xColumns": null,
        "yColumns": null
       },
       "removedWidgets": [],
       "schema": [
        {
         "metadata": "{}",
         "name": "LocationID",
         "type": "\"integer\""
        },
        {
         "metadata": "{}",
         "name": "Borough",
         "type": "\"string\""
        },
        {
         "metadata": "{}",
         "name": "Zone",
         "type": "\"string\""
        },
        {
         "metadata": "{}",
         "name": "service_zone",
         "type": "\"string\""
        }
       ],
       "type": "table"
      }
     },
     "output_type": "display_data"
    }
   ],
   "source": [
    "# File location and type\n",
    "file_location = \"/FileStore/tables/taxi_zone_lookup-2.csv\"\n",
    "file_type = \"csv\"\n",
    "\n",
    "# CSV options\n",
    "infer_schema = \"true\"\n",
    "first_row_is_header = \"true\"\n",
    "delimiter = \",\"\n",
    "\n",
    "# The applied options are for CSV files. For other file types, these will be ignored.\n",
    "df = spark.read.format(file_type) \\\n",
    "  .option(\"inferSchema\", infer_schema) \\\n",
    "  .option(\"header\", first_row_is_header) \\\n",
    "  .option(\"sep\", delimiter) \\\n",
    "  .load(file_location)\n",
    "\n",
    "display(df)"
   ]
  },
  {
   "cell_type": "code",
   "execution_count": 0,
   "metadata": {
    "application/vnd.databricks.v1+cell": {
     "cellMetadata": {
      "byteLimit": 2048000,
      "rowLimit": 10000
     },
     "inputWidgets": {},
     "nuid": "bd82bb99-1479-4d5c-be10-8c36df0f1d44",
     "showTitle": false,
     "tableResultSettingsMap": {},
     "title": ""
    }
   },
   "outputs": [],
   "source": [
    "# Create a view or table\n",
    "\n",
    "temp_table_name = \"taxi_zone_lookup2_csv\"\n",
    "\n",
    "df.createOrReplaceTempView(temp_table_name)"
   ]
  },
  {
   "cell_type": "code",
   "execution_count": 0,
   "metadata": {
    "application/vnd.databricks.v1+cell": {
     "cellMetadata": {
      "byteLimit": 2048000,
      "implicitDf": true,
      "rowLimit": 10000
     },
     "inputWidgets": {},
     "nuid": "b5f66379-6f7f-42ec-8e82-d0e0926a1721",
     "showTitle": false,
     "tableResultSettingsMap": {},
     "title": ""
    }
   },
   "outputs": [
    {
     "output_type": "display_data",
     "data": {
      "text/html": [
       "<style scoped>\n",
       "  .table-result-container {\n",
       "    max-height: 300px;\n",
       "    overflow: auto;\n",
       "  }\n",
       "  table, th, td {\n",
       "    border: 1px solid black;\n",
       "    border-collapse: collapse;\n",
       "  }\n",
       "  th, td {\n",
       "    padding: 5px;\n",
       "  }\n",
       "  th {\n",
       "    text-align: left;\n",
       "  }\n",
       "</style><div class='table-result-container'><table class='table-result'><thead style='background-color: white'><tr><th>LocationID</th><th>Borough</th><th>Zone</th><th>service_zone</th></tr></thead><tbody><tr><td>1</td><td>EWR</td><td>Newark Airport</td><td>EWR</td></tr><tr><td>2</td><td>Queens</td><td>Jamaica Bay</td><td>Boro Zone</td></tr><tr><td>3</td><td>Bronx</td><td>Allerton/Pelham Gardens</td><td>Boro Zone</td></tr><tr><td>4</td><td>Manhattan</td><td>Alphabet City</td><td>Yellow Zone</td></tr><tr><td>5</td><td>Staten Island</td><td>Arden Heights</td><td>Boro Zone</td></tr><tr><td>6</td><td>Staten Island</td><td>Arrochar/Fort Wadsworth</td><td>Boro Zone</td></tr><tr><td>7</td><td>Queens</td><td>Astoria</td><td>Boro Zone</td></tr><tr><td>8</td><td>Queens</td><td>Astoria Park</td><td>Boro Zone</td></tr><tr><td>9</td><td>Queens</td><td>Auburndale</td><td>Boro Zone</td></tr><tr><td>10</td><td>Queens</td><td>Baisley Park</td><td>Boro Zone</td></tr><tr><td>11</td><td>Brooklyn</td><td>Bath Beach</td><td>Boro Zone</td></tr><tr><td>12</td><td>Manhattan</td><td>Battery Park</td><td>Yellow Zone</td></tr><tr><td>13</td><td>Manhattan</td><td>Battery Park City</td><td>Yellow Zone</td></tr><tr><td>14</td><td>Brooklyn</td><td>Bay Ridge</td><td>Boro Zone</td></tr><tr><td>15</td><td>Queens</td><td>Bay Terrace/Fort Totten</td><td>Boro Zone</td></tr><tr><td>16</td><td>Queens</td><td>Bayside</td><td>Boro Zone</td></tr><tr><td>17</td><td>Brooklyn</td><td>Bedford</td><td>Boro Zone</td></tr><tr><td>18</td><td>Bronx</td><td>Bedford Park</td><td>Boro Zone</td></tr><tr><td>19</td><td>Queens</td><td>Bellerose</td><td>Boro Zone</td></tr><tr><td>20</td><td>Bronx</td><td>Belmont</td><td>Boro Zone</td></tr><tr><td>21</td><td>Brooklyn</td><td>Bensonhurst East</td><td>Boro Zone</td></tr><tr><td>22</td><td>Brooklyn</td><td>Bensonhurst West</td><td>Boro Zone</td></tr><tr><td>23</td><td>Staten Island</td><td>Bloomfield/Emerson Hill</td><td>Boro Zone</td></tr><tr><td>24</td><td>Manhattan</td><td>Bloomingdale</td><td>Yellow Zone</td></tr><tr><td>25</td><td>Brooklyn</td><td>Boerum Hill</td><td>Boro Zone</td></tr><tr><td>26</td><td>Brooklyn</td><td>Borough Park</td><td>Boro Zone</td></tr><tr><td>27</td><td>Queens</td><td>Breezy Point/Fort Tilden/Riis Beach</td><td>Boro Zone</td></tr><tr><td>28</td><td>Queens</td><td>Briarwood/Jamaica Hills</td><td>Boro Zone</td></tr><tr><td>29</td><td>Brooklyn</td><td>Brighton Beach</td><td>Boro Zone</td></tr><tr><td>30</td><td>Queens</td><td>Broad Channel</td><td>Boro Zone</td></tr><tr><td>31</td><td>Bronx</td><td>Bronx Park</td><td>Boro Zone</td></tr><tr><td>32</td><td>Bronx</td><td>Bronxdale</td><td>Boro Zone</td></tr><tr><td>33</td><td>Brooklyn</td><td>Brooklyn Heights</td><td>Boro Zone</td></tr><tr><td>34</td><td>Brooklyn</td><td>Brooklyn Navy Yard</td><td>Boro Zone</td></tr><tr><td>35</td><td>Brooklyn</td><td>Brownsville</td><td>Boro Zone</td></tr><tr><td>36</td><td>Brooklyn</td><td>Bushwick North</td><td>Boro Zone</td></tr><tr><td>37</td><td>Brooklyn</td><td>Bushwick South</td><td>Boro Zone</td></tr><tr><td>38</td><td>Queens</td><td>Cambria Heights</td><td>Boro Zone</td></tr><tr><td>39</td><td>Brooklyn</td><td>Canarsie</td><td>Boro Zone</td></tr><tr><td>40</td><td>Brooklyn</td><td>Carroll Gardens</td><td>Boro Zone</td></tr><tr><td>41</td><td>Manhattan</td><td>Central Harlem</td><td>Boro Zone</td></tr><tr><td>42</td><td>Manhattan</td><td>Central Harlem North</td><td>Boro Zone</td></tr><tr><td>43</td><td>Manhattan</td><td>Central Park</td><td>Yellow Zone</td></tr><tr><td>44</td><td>Staten Island</td><td>Charleston/Tottenville</td><td>Boro Zone</td></tr><tr><td>45</td><td>Manhattan</td><td>Chinatown</td><td>Yellow Zone</td></tr><tr><td>46</td><td>Bronx</td><td>City Island</td><td>Boro Zone</td></tr><tr><td>47</td><td>Bronx</td><td>Claremont/Bathgate</td><td>Boro Zone</td></tr><tr><td>48</td><td>Manhattan</td><td>Clinton East</td><td>Yellow Zone</td></tr><tr><td>49</td><td>Brooklyn</td><td>Clinton Hill</td><td>Boro Zone</td></tr><tr><td>50</td><td>Manhattan</td><td>Clinton West</td><td>Yellow Zone</td></tr><tr><td>51</td><td>Bronx</td><td>Co-Op City</td><td>Boro Zone</td></tr><tr><td>52</td><td>Brooklyn</td><td>Cobble Hill</td><td>Boro Zone</td></tr><tr><td>53</td><td>Queens</td><td>College Point</td><td>Boro Zone</td></tr><tr><td>54</td><td>Brooklyn</td><td>Columbia Street</td><td>Boro Zone</td></tr><tr><td>55</td><td>Brooklyn</td><td>Coney Island</td><td>Boro Zone</td></tr><tr><td>56</td><td>Queens</td><td>Corona</td><td>Boro Zone</td></tr><tr><td>57</td><td>Queens</td><td>Corona</td><td>Boro Zone</td></tr><tr><td>58</td><td>Bronx</td><td>Country Club</td><td>Boro Zone</td></tr><tr><td>59</td><td>Bronx</td><td>Crotona Park</td><td>Boro Zone</td></tr><tr><td>60</td><td>Bronx</td><td>Crotona Park East</td><td>Boro Zone</td></tr><tr><td>61</td><td>Brooklyn</td><td>Crown Heights North</td><td>Boro Zone</td></tr><tr><td>62</td><td>Brooklyn</td><td>Crown Heights South</td><td>Boro Zone</td></tr><tr><td>63</td><td>Brooklyn</td><td>Cypress Hills</td><td>Boro Zone</td></tr><tr><td>64</td><td>Queens</td><td>Douglaston</td><td>Boro Zone</td></tr><tr><td>65</td><td>Brooklyn</td><td>Downtown Brooklyn/MetroTech</td><td>Boro Zone</td></tr><tr><td>66</td><td>Brooklyn</td><td>DUMBO/Vinegar Hill</td><td>Boro Zone</td></tr><tr><td>67</td><td>Brooklyn</td><td>Dyker Heights</td><td>Boro Zone</td></tr><tr><td>68</td><td>Manhattan</td><td>East Chelsea</td><td>Yellow Zone</td></tr><tr><td>69</td><td>Bronx</td><td>East Concourse/Concourse Village</td><td>Boro Zone</td></tr><tr><td>70</td><td>Queens</td><td>East Elmhurst</td><td>Boro Zone</td></tr><tr><td>71</td><td>Brooklyn</td><td>East Flatbush/Farragut</td><td>Boro Zone</td></tr><tr><td>72</td><td>Brooklyn</td><td>East Flatbush/Remsen Village</td><td>Boro Zone</td></tr><tr><td>73</td><td>Queens</td><td>East Flushing</td><td>Boro Zone</td></tr><tr><td>74</td><td>Manhattan</td><td>East Harlem North</td><td>Boro Zone</td></tr><tr><td>75</td><td>Manhattan</td><td>East Harlem South</td><td>Boro Zone</td></tr><tr><td>76</td><td>Brooklyn</td><td>East New York</td><td>Boro Zone</td></tr><tr><td>77</td><td>Brooklyn</td><td>East New York/Pennsylvania Avenue</td><td>Boro Zone</td></tr><tr><td>78</td><td>Bronx</td><td>East Tremont</td><td>Boro Zone</td></tr><tr><td>79</td><td>Manhattan</td><td>East Village</td><td>Yellow Zone</td></tr><tr><td>80</td><td>Brooklyn</td><td>East Williamsburg</td><td>Boro Zone</td></tr><tr><td>81</td><td>Bronx</td><td>Eastchester</td><td>Boro Zone</td></tr><tr><td>82</td><td>Queens</td><td>Elmhurst</td><td>Boro Zone</td></tr><tr><td>83</td><td>Queens</td><td>Elmhurst/Maspeth</td><td>Boro Zone</td></tr><tr><td>84</td><td>Staten Island</td><td>Eltingville/Annadale/Prince's Bay</td><td>Boro Zone</td></tr><tr><td>85</td><td>Brooklyn</td><td>Erasmus</td><td>Boro Zone</td></tr><tr><td>86</td><td>Queens</td><td>Far Rockaway</td><td>Boro Zone</td></tr><tr><td>87</td><td>Manhattan</td><td>Financial District North</td><td>Yellow Zone</td></tr><tr><td>88</td><td>Manhattan</td><td>Financial District South</td><td>Yellow Zone</td></tr><tr><td>89</td><td>Brooklyn</td><td>Flatbush/Ditmas Park</td><td>Boro Zone</td></tr><tr><td>90</td><td>Manhattan</td><td>Flatiron</td><td>Yellow Zone</td></tr><tr><td>91</td><td>Brooklyn</td><td>Flatlands</td><td>Boro Zone</td></tr><tr><td>92</td><td>Queens</td><td>Flushing</td><td>Boro Zone</td></tr><tr><td>93</td><td>Queens</td><td>Flushing Meadows-Corona Park</td><td>Boro Zone</td></tr><tr><td>94</td><td>Bronx</td><td>Fordham South</td><td>Boro Zone</td></tr><tr><td>95</td><td>Queens</td><td>Forest Hills</td><td>Boro Zone</td></tr><tr><td>96</td><td>Queens</td><td>Forest Park/Highland Park</td><td>Boro Zone</td></tr><tr><td>97</td><td>Brooklyn</td><td>Fort Greene</td><td>Boro Zone</td></tr><tr><td>98</td><td>Queens</td><td>Fresh Meadows</td><td>Boro Zone</td></tr><tr><td>99</td><td>Staten Island</td><td>Freshkills Park</td><td>Boro Zone</td></tr><tr><td>100</td><td>Manhattan</td><td>Garment District</td><td>Yellow Zone</td></tr><tr><td>101</td><td>Queens</td><td>Glen Oaks</td><td>Boro Zone</td></tr><tr><td>102</td><td>Queens</td><td>Glendale</td><td>Boro Zone</td></tr><tr><td>103</td><td>Manhattan</td><td>Governor's Island/Ellis Island/Liberty Island</td><td>Yellow Zone</td></tr><tr><td>104</td><td>Manhattan</td><td>Governor's Island/Ellis Island/Liberty Island</td><td>Yellow Zone</td></tr><tr><td>105</td><td>Manhattan</td><td>Governor's Island/Ellis Island/Liberty Island</td><td>Yellow Zone</td></tr><tr><td>106</td><td>Brooklyn</td><td>Gowanus</td><td>Boro Zone</td></tr><tr><td>107</td><td>Manhattan</td><td>Gramercy</td><td>Yellow Zone</td></tr><tr><td>108</td><td>Brooklyn</td><td>Gravesend</td><td>Boro Zone</td></tr><tr><td>109</td><td>Staten Island</td><td>Great Kills</td><td>Boro Zone</td></tr><tr><td>110</td><td>Staten Island</td><td>Great Kills Park</td><td>Boro Zone</td></tr><tr><td>111</td><td>Brooklyn</td><td>Green-Wood Cemetery</td><td>Boro Zone</td></tr><tr><td>112</td><td>Brooklyn</td><td>Greenpoint</td><td>Boro Zone</td></tr><tr><td>113</td><td>Manhattan</td><td>Greenwich Village North</td><td>Yellow Zone</td></tr><tr><td>114</td><td>Manhattan</td><td>Greenwich Village South</td><td>Yellow Zone</td></tr><tr><td>115</td><td>Staten Island</td><td>Grymes Hill/Clifton</td><td>Boro Zone</td></tr><tr><td>116</td><td>Manhattan</td><td>Hamilton Heights</td><td>Boro Zone</td></tr><tr><td>117</td><td>Queens</td><td>Hammels/Arverne</td><td>Boro Zone</td></tr><tr><td>118</td><td>Staten Island</td><td>Heartland Village/Todt Hill</td><td>Boro Zone</td></tr><tr><td>119</td><td>Bronx</td><td>Highbridge</td><td>Boro Zone</td></tr><tr><td>120</td><td>Manhattan</td><td>Highbridge Park</td><td>Boro Zone</td></tr><tr><td>121</td><td>Queens</td><td>Hillcrest/Pomonok</td><td>Boro Zone</td></tr><tr><td>122</td><td>Queens</td><td>Hollis</td><td>Boro Zone</td></tr><tr><td>123</td><td>Brooklyn</td><td>Homecrest</td><td>Boro Zone</td></tr><tr><td>124</td><td>Queens</td><td>Howard Beach</td><td>Boro Zone</td></tr><tr><td>125</td><td>Manhattan</td><td>Hudson Sq</td><td>Yellow Zone</td></tr><tr><td>126</td><td>Bronx</td><td>Hunts Point</td><td>Boro Zone</td></tr><tr><td>127</td><td>Manhattan</td><td>Inwood</td><td>Boro Zone</td></tr><tr><td>128</td><td>Manhattan</td><td>Inwood Hill Park</td><td>Boro Zone</td></tr><tr><td>129</td><td>Queens</td><td>Jackson Heights</td><td>Boro Zone</td></tr><tr><td>130</td><td>Queens</td><td>Jamaica</td><td>Boro Zone</td></tr><tr><td>131</td><td>Queens</td><td>Jamaica Estates</td><td>Boro Zone</td></tr><tr><td>132</td><td>Queens</td><td>JFK Airport</td><td>Airports</td></tr><tr><td>133</td><td>Brooklyn</td><td>Kensington</td><td>Boro Zone</td></tr><tr><td>134</td><td>Queens</td><td>Kew Gardens</td><td>Boro Zone</td></tr><tr><td>135</td><td>Queens</td><td>Kew Gardens Hills</td><td>Boro Zone</td></tr><tr><td>136</td><td>Bronx</td><td>Kingsbridge Heights</td><td>Boro Zone</td></tr><tr><td>137</td><td>Manhattan</td><td>Kips Bay</td><td>Yellow Zone</td></tr><tr><td>138</td><td>Queens</td><td>LaGuardia Airport</td><td>Airports</td></tr><tr><td>139</td><td>Queens</td><td>Laurelton</td><td>Boro Zone</td></tr><tr><td>140</td><td>Manhattan</td><td>Lenox Hill East</td><td>Yellow Zone</td></tr><tr><td>141</td><td>Manhattan</td><td>Lenox Hill West</td><td>Yellow Zone</td></tr><tr><td>142</td><td>Manhattan</td><td>Lincoln Square East</td><td>Yellow Zone</td></tr><tr><td>143</td><td>Manhattan</td><td>Lincoln Square West</td><td>Yellow Zone</td></tr><tr><td>144</td><td>Manhattan</td><td>Little Italy/NoLiTa</td><td>Yellow Zone</td></tr><tr><td>145</td><td>Queens</td><td>Long Island City/Hunters Point</td><td>Boro Zone</td></tr><tr><td>146</td><td>Queens</td><td>Long Island City/Queens Plaza</td><td>Boro Zone</td></tr><tr><td>147</td><td>Bronx</td><td>Longwood</td><td>Boro Zone</td></tr><tr><td>148</td><td>Manhattan</td><td>Lower East Side</td><td>Yellow Zone</td></tr><tr><td>149</td><td>Brooklyn</td><td>Madison</td><td>Boro Zone</td></tr><tr><td>150</td><td>Brooklyn</td><td>Manhattan Beach</td><td>Boro Zone</td></tr><tr><td>151</td><td>Manhattan</td><td>Manhattan Valley</td><td>Yellow Zone</td></tr><tr><td>152</td><td>Manhattan</td><td>Manhattanville</td><td>Boro Zone</td></tr><tr><td>153</td><td>Manhattan</td><td>Marble Hill</td><td>Boro Zone</td></tr><tr><td>154</td><td>Brooklyn</td><td>Marine Park/Floyd Bennett Field</td><td>Boro Zone</td></tr><tr><td>155</td><td>Brooklyn</td><td>Marine Park/Mill Basin</td><td>Boro Zone</td></tr><tr><td>156</td><td>Staten Island</td><td>Mariners Harbor</td><td>Boro Zone</td></tr><tr><td>157</td><td>Queens</td><td>Maspeth</td><td>Boro Zone</td></tr><tr><td>158</td><td>Manhattan</td><td>Meatpacking/West Village West</td><td>Yellow Zone</td></tr><tr><td>159</td><td>Bronx</td><td>Melrose South</td><td>Boro Zone</td></tr><tr><td>160</td><td>Queens</td><td>Middle Village</td><td>Boro Zone</td></tr><tr><td>161</td><td>Manhattan</td><td>Midtown Center</td><td>Yellow Zone</td></tr><tr><td>162</td><td>Manhattan</td><td>Midtown East</td><td>Yellow Zone</td></tr><tr><td>163</td><td>Manhattan</td><td>Midtown North</td><td>Yellow Zone</td></tr><tr><td>164</td><td>Manhattan</td><td>Midtown South</td><td>Yellow Zone</td></tr><tr><td>165</td><td>Brooklyn</td><td>Midwood</td><td>Boro Zone</td></tr><tr><td>166</td><td>Manhattan</td><td>Morningside Heights</td><td>Boro Zone</td></tr><tr><td>167</td><td>Bronx</td><td>Morrisania/Melrose</td><td>Boro Zone</td></tr><tr><td>168</td><td>Bronx</td><td>Mott Haven/Port Morris</td><td>Boro Zone</td></tr><tr><td>169</td><td>Bronx</td><td>Mount Hope</td><td>Boro Zone</td></tr><tr><td>170</td><td>Manhattan</td><td>Murray Hill</td><td>Yellow Zone</td></tr><tr><td>171</td><td>Queens</td><td>Murray Hill-Queens</td><td>Boro Zone</td></tr><tr><td>172</td><td>Staten Island</td><td>New Dorp/Midland Beach</td><td>Boro Zone</td></tr><tr><td>173</td><td>Queens</td><td>North Corona</td><td>Boro Zone</td></tr><tr><td>174</td><td>Bronx</td><td>Norwood</td><td>Boro Zone</td></tr><tr><td>175</td><td>Queens</td><td>Oakland Gardens</td><td>Boro Zone</td></tr><tr><td>176</td><td>Staten Island</td><td>Oakwood</td><td>Boro Zone</td></tr><tr><td>177</td><td>Brooklyn</td><td>Ocean Hill</td><td>Boro Zone</td></tr><tr><td>178</td><td>Brooklyn</td><td>Ocean Parkway South</td><td>Boro Zone</td></tr><tr><td>179</td><td>Queens</td><td>Old Astoria</td><td>Boro Zone</td></tr><tr><td>180</td><td>Queens</td><td>Ozone Park</td><td>Boro Zone</td></tr><tr><td>181</td><td>Brooklyn</td><td>Park Slope</td><td>Boro Zone</td></tr><tr><td>182</td><td>Bronx</td><td>Parkchester</td><td>Boro Zone</td></tr><tr><td>183</td><td>Bronx</td><td>Pelham Bay</td><td>Boro Zone</td></tr><tr><td>184</td><td>Bronx</td><td>Pelham Bay Park</td><td>Boro Zone</td></tr><tr><td>185</td><td>Bronx</td><td>Pelham Parkway</td><td>Boro Zone</td></tr><tr><td>186</td><td>Manhattan</td><td>Penn Station/Madison Sq West</td><td>Yellow Zone</td></tr><tr><td>187</td><td>Staten Island</td><td>Port Richmond</td><td>Boro Zone</td></tr><tr><td>188</td><td>Brooklyn</td><td>Prospect-Lefferts Gardens</td><td>Boro Zone</td></tr><tr><td>189</td><td>Brooklyn</td><td>Prospect Heights</td><td>Boro Zone</td></tr><tr><td>190</td><td>Brooklyn</td><td>Prospect Park</td><td>Boro Zone</td></tr><tr><td>191</td><td>Queens</td><td>Queens Village</td><td>Boro Zone</td></tr><tr><td>192</td><td>Queens</td><td>Queensboro Hill</td><td>Boro Zone</td></tr><tr><td>193</td><td>Queens</td><td>Queensbridge/Ravenswood</td><td>Boro Zone</td></tr><tr><td>194</td><td>Manhattan</td><td>Randalls Island</td><td>Yellow Zone</td></tr><tr><td>195</td><td>Brooklyn</td><td>Red Hook</td><td>Boro Zone</td></tr><tr><td>196</td><td>Queens</td><td>Rego Park</td><td>Boro Zone</td></tr><tr><td>197</td><td>Queens</td><td>Richmond Hill</td><td>Boro Zone</td></tr><tr><td>198</td><td>Queens</td><td>Ridgewood</td><td>Boro Zone</td></tr><tr><td>199</td><td>Bronx</td><td>Rikers Island</td><td>Boro Zone</td></tr><tr><td>200</td><td>Bronx</td><td>Riverdale/North Riverdale/Fieldston</td><td>Boro Zone</td></tr><tr><td>201</td><td>Queens</td><td>Rockaway Park</td><td>Boro Zone</td></tr><tr><td>202</td><td>Manhattan</td><td>Roosevelt Island</td><td>Boro Zone</td></tr><tr><td>203</td><td>Queens</td><td>Rosedale</td><td>Boro Zone</td></tr><tr><td>204</td><td>Staten Island</td><td>Rossville/Woodrow</td><td>Boro Zone</td></tr><tr><td>205</td><td>Queens</td><td>Saint Albans</td><td>Boro Zone</td></tr><tr><td>206</td><td>Staten Island</td><td>Saint George/New Brighton</td><td>Boro Zone</td></tr><tr><td>207</td><td>Queens</td><td>Saint Michaels Cemetery/Woodside</td><td>Boro Zone</td></tr><tr><td>208</td><td>Bronx</td><td>Schuylerville/Edgewater Park</td><td>Boro Zone</td></tr><tr><td>209</td><td>Manhattan</td><td>Seaport</td><td>Yellow Zone</td></tr><tr><td>210</td><td>Brooklyn</td><td>Sheepshead Bay</td><td>Boro Zone</td></tr><tr><td>211</td><td>Manhattan</td><td>SoHo</td><td>Yellow Zone</td></tr><tr><td>212</td><td>Bronx</td><td>Soundview/Bruckner</td><td>Boro Zone</td></tr><tr><td>213</td><td>Bronx</td><td>Soundview/Castle Hill</td><td>Boro Zone</td></tr><tr><td>214</td><td>Staten Island</td><td>South Beach/Dongan Hills</td><td>Boro Zone</td></tr><tr><td>215</td><td>Queens</td><td>South Jamaica</td><td>Boro Zone</td></tr><tr><td>216</td><td>Queens</td><td>South Ozone Park</td><td>Boro Zone</td></tr><tr><td>217</td><td>Brooklyn</td><td>South Williamsburg</td><td>Boro Zone</td></tr><tr><td>218</td><td>Queens</td><td>Springfield Gardens North</td><td>Boro Zone</td></tr><tr><td>219</td><td>Queens</td><td>Springfield Gardens South</td><td>Boro Zone</td></tr><tr><td>220</td><td>Bronx</td><td>Spuyten Duyvil/Kingsbridge</td><td>Boro Zone</td></tr><tr><td>221</td><td>Staten Island</td><td>Stapleton</td><td>Boro Zone</td></tr><tr><td>222</td><td>Brooklyn</td><td>Starrett City</td><td>Boro Zone</td></tr><tr><td>223</td><td>Queens</td><td>Steinway</td><td>Boro Zone</td></tr><tr><td>224</td><td>Manhattan</td><td>Stuy Town/Peter Cooper Village</td><td>Yellow Zone</td></tr><tr><td>225</td><td>Brooklyn</td><td>Stuyvesant Heights</td><td>Boro Zone</td></tr><tr><td>226</td><td>Queens</td><td>Sunnyside</td><td>Boro Zone</td></tr><tr><td>227</td><td>Brooklyn</td><td>Sunset Park East</td><td>Boro Zone</td></tr><tr><td>228</td><td>Brooklyn</td><td>Sunset Park West</td><td>Boro Zone</td></tr><tr><td>229</td><td>Manhattan</td><td>Sutton Place/Turtle Bay North</td><td>Yellow Zone</td></tr><tr><td>230</td><td>Manhattan</td><td>Times Sq/Theatre District</td><td>Yellow Zone</td></tr><tr><td>231</td><td>Manhattan</td><td>TriBeCa/Civic Center</td><td>Yellow Zone</td></tr><tr><td>232</td><td>Manhattan</td><td>Two Bridges/Seward Park</td><td>Yellow Zone</td></tr><tr><td>233</td><td>Manhattan</td><td>UN/Turtle Bay South</td><td>Yellow Zone</td></tr><tr><td>234</td><td>Manhattan</td><td>Union Sq</td><td>Yellow Zone</td></tr><tr><td>235</td><td>Bronx</td><td>University Heights/Morris Heights</td><td>Boro Zone</td></tr><tr><td>236</td><td>Manhattan</td><td>Upper East Side North</td><td>Yellow Zone</td></tr><tr><td>237</td><td>Manhattan</td><td>Upper East Side South</td><td>Yellow Zone</td></tr><tr><td>238</td><td>Manhattan</td><td>Upper West Side North</td><td>Yellow Zone</td></tr><tr><td>239</td><td>Manhattan</td><td>Upper West Side South</td><td>Yellow Zone</td></tr><tr><td>240</td><td>Bronx</td><td>Van Cortlandt Park</td><td>Boro Zone</td></tr><tr><td>241</td><td>Bronx</td><td>Van Cortlandt Village</td><td>Boro Zone</td></tr><tr><td>242</td><td>Bronx</td><td>Van Nest/Morris Park</td><td>Boro Zone</td></tr><tr><td>243</td><td>Manhattan</td><td>Washington Heights North</td><td>Boro Zone</td></tr><tr><td>244</td><td>Manhattan</td><td>Washington Heights South</td><td>Boro Zone</td></tr><tr><td>245</td><td>Staten Island</td><td>West Brighton</td><td>Boro Zone</td></tr><tr><td>246</td><td>Manhattan</td><td>West Chelsea/Hudson Yards</td><td>Yellow Zone</td></tr><tr><td>247</td><td>Bronx</td><td>West Concourse</td><td>Boro Zone</td></tr><tr><td>248</td><td>Bronx</td><td>West Farms/Bronx River</td><td>Boro Zone</td></tr><tr><td>249</td><td>Manhattan</td><td>West Village</td><td>Yellow Zone</td></tr><tr><td>250</td><td>Bronx</td><td>Westchester Village/Unionport</td><td>Boro Zone</td></tr><tr><td>251</td><td>Staten Island</td><td>Westerleigh</td><td>Boro Zone</td></tr><tr><td>252</td><td>Queens</td><td>Whitestone</td><td>Boro Zone</td></tr><tr><td>253</td><td>Queens</td><td>Willets Point</td><td>Boro Zone</td></tr><tr><td>254</td><td>Bronx</td><td>Williamsbridge/Olinville</td><td>Boro Zone</td></tr><tr><td>255</td><td>Brooklyn</td><td>Williamsburg (North Side)</td><td>Boro Zone</td></tr><tr><td>256</td><td>Brooklyn</td><td>Williamsburg (South Side)</td><td>Boro Zone</td></tr><tr><td>257</td><td>Brooklyn</td><td>Windsor Terrace</td><td>Boro Zone</td></tr><tr><td>258</td><td>Queens</td><td>Woodhaven</td><td>Boro Zone</td></tr><tr><td>259</td><td>Bronx</td><td>Woodlawn/Wakefield</td><td>Boro Zone</td></tr><tr><td>260</td><td>Queens</td><td>Woodside</td><td>Boro Zone</td></tr><tr><td>261</td><td>Manhattan</td><td>World Trade Center</td><td>Yellow Zone</td></tr><tr><td>262</td><td>Manhattan</td><td>Yorkville East</td><td>Yellow Zone</td></tr><tr><td>263</td><td>Manhattan</td><td>Yorkville West</td><td>Yellow Zone</td></tr><tr><td>264</td><td>Unknown</td><td>NV</td><td>N/A</td></tr><tr><td>265</td><td>Unknown</td><td>NA</td><td>N/A</td></tr></tbody></table></div>"
      ]
     },
     "metadata": {
      "application/vnd.databricks.v1+output": {
       "addedWidgets": {},
       "aggData": [],
       "aggError": "",
       "aggOverflow": false,
       "aggSchema": [],
       "aggSeriesLimitReached": false,
       "aggType": "",
       "arguments": {},
       "columnCustomDisplayInfos": {},
       "data": [
        [
         1,
         "EWR",
         "Newark Airport",
         "EWR"
        ],
        [
         2,
         "Queens",
         "Jamaica Bay",
         "Boro Zone"
        ],
        [
         3,
         "Bronx",
         "Allerton/Pelham Gardens",
         "Boro Zone"
        ],
        [
         4,
         "Manhattan",
         "Alphabet City",
         "Yellow Zone"
        ],
        [
         5,
         "Staten Island",
         "Arden Heights",
         "Boro Zone"
        ],
        [
         6,
         "Staten Island",
         "Arrochar/Fort Wadsworth",
         "Boro Zone"
        ],
        [
         7,
         "Queens",
         "Astoria",
         "Boro Zone"
        ],
        [
         8,
         "Queens",
         "Astoria Park",
         "Boro Zone"
        ],
        [
         9,
         "Queens",
         "Auburndale",
         "Boro Zone"
        ],
        [
         10,
         "Queens",
         "Baisley Park",
         "Boro Zone"
        ],
        [
         11,
         "Brooklyn",
         "Bath Beach",
         "Boro Zone"
        ],
        [
         12,
         "Manhattan",
         "Battery Park",
         "Yellow Zone"
        ],
        [
         13,
         "Manhattan",
         "Battery Park City",
         "Yellow Zone"
        ],
        [
         14,
         "Brooklyn",
         "Bay Ridge",
         "Boro Zone"
        ],
        [
         15,
         "Queens",
         "Bay Terrace/Fort Totten",
         "Boro Zone"
        ],
        [
         16,
         "Queens",
         "Bayside",
         "Boro Zone"
        ],
        [
         17,
         "Brooklyn",
         "Bedford",
         "Boro Zone"
        ],
        [
         18,
         "Bronx",
         "Bedford Park",
         "Boro Zone"
        ],
        [
         19,
         "Queens",
         "Bellerose",
         "Boro Zone"
        ],
        [
         20,
         "Bronx",
         "Belmont",
         "Boro Zone"
        ],
        [
         21,
         "Brooklyn",
         "Bensonhurst East",
         "Boro Zone"
        ],
        [
         22,
         "Brooklyn",
         "Bensonhurst West",
         "Boro Zone"
        ],
        [
         23,
         "Staten Island",
         "Bloomfield/Emerson Hill",
         "Boro Zone"
        ],
        [
         24,
         "Manhattan",
         "Bloomingdale",
         "Yellow Zone"
        ],
        [
         25,
         "Brooklyn",
         "Boerum Hill",
         "Boro Zone"
        ],
        [
         26,
         "Brooklyn",
         "Borough Park",
         "Boro Zone"
        ],
        [
         27,
         "Queens",
         "Breezy Point/Fort Tilden/Riis Beach",
         "Boro Zone"
        ],
        [
         28,
         "Queens",
         "Briarwood/Jamaica Hills",
         "Boro Zone"
        ],
        [
         29,
         "Brooklyn",
         "Brighton Beach",
         "Boro Zone"
        ],
        [
         30,
         "Queens",
         "Broad Channel",
         "Boro Zone"
        ],
        [
         31,
         "Bronx",
         "Bronx Park",
         "Boro Zone"
        ],
        [
         32,
         "Bronx",
         "Bronxdale",
         "Boro Zone"
        ],
        [
         33,
         "Brooklyn",
         "Brooklyn Heights",
         "Boro Zone"
        ],
        [
         34,
         "Brooklyn",
         "Brooklyn Navy Yard",
         "Boro Zone"
        ],
        [
         35,
         "Brooklyn",
         "Brownsville",
         "Boro Zone"
        ],
        [
         36,
         "Brooklyn",
         "Bushwick North",
         "Boro Zone"
        ],
        [
         37,
         "Brooklyn",
         "Bushwick South",
         "Boro Zone"
        ],
        [
         38,
         "Queens",
         "Cambria Heights",
         "Boro Zone"
        ],
        [
         39,
         "Brooklyn",
         "Canarsie",
         "Boro Zone"
        ],
        [
         40,
         "Brooklyn",
         "Carroll Gardens",
         "Boro Zone"
        ],
        [
         41,
         "Manhattan",
         "Central Harlem",
         "Boro Zone"
        ],
        [
         42,
         "Manhattan",
         "Central Harlem North",
         "Boro Zone"
        ],
        [
         43,
         "Manhattan",
         "Central Park",
         "Yellow Zone"
        ],
        [
         44,
         "Staten Island",
         "Charleston/Tottenville",
         "Boro Zone"
        ],
        [
         45,
         "Manhattan",
         "Chinatown",
         "Yellow Zone"
        ],
        [
         46,
         "Bronx",
         "City Island",
         "Boro Zone"
        ],
        [
         47,
         "Bronx",
         "Claremont/Bathgate",
         "Boro Zone"
        ],
        [
         48,
         "Manhattan",
         "Clinton East",
         "Yellow Zone"
        ],
        [
         49,
         "Brooklyn",
         "Clinton Hill",
         "Boro Zone"
        ],
        [
         50,
         "Manhattan",
         "Clinton West",
         "Yellow Zone"
        ],
        [
         51,
         "Bronx",
         "Co-Op City",
         "Boro Zone"
        ],
        [
         52,
         "Brooklyn",
         "Cobble Hill",
         "Boro Zone"
        ],
        [
         53,
         "Queens",
         "College Point",
         "Boro Zone"
        ],
        [
         54,
         "Brooklyn",
         "Columbia Street",
         "Boro Zone"
        ],
        [
         55,
         "Brooklyn",
         "Coney Island",
         "Boro Zone"
        ],
        [
         56,
         "Queens",
         "Corona",
         "Boro Zone"
        ],
        [
         57,
         "Queens",
         "Corona",
         "Boro Zone"
        ],
        [
         58,
         "Bronx",
         "Country Club",
         "Boro Zone"
        ],
        [
         59,
         "Bronx",
         "Crotona Park",
         "Boro Zone"
        ],
        [
         60,
         "Bronx",
         "Crotona Park East",
         "Boro Zone"
        ],
        [
         61,
         "Brooklyn",
         "Crown Heights North",
         "Boro Zone"
        ],
        [
         62,
         "Brooklyn",
         "Crown Heights South",
         "Boro Zone"
        ],
        [
         63,
         "Brooklyn",
         "Cypress Hills",
         "Boro Zone"
        ],
        [
         64,
         "Queens",
         "Douglaston",
         "Boro Zone"
        ],
        [
         65,
         "Brooklyn",
         "Downtown Brooklyn/MetroTech",
         "Boro Zone"
        ],
        [
         66,
         "Brooklyn",
         "DUMBO/Vinegar Hill",
         "Boro Zone"
        ],
        [
         67,
         "Brooklyn",
         "Dyker Heights",
         "Boro Zone"
        ],
        [
         68,
         "Manhattan",
         "East Chelsea",
         "Yellow Zone"
        ],
        [
         69,
         "Bronx",
         "East Concourse/Concourse Village",
         "Boro Zone"
        ],
        [
         70,
         "Queens",
         "East Elmhurst",
         "Boro Zone"
        ],
        [
         71,
         "Brooklyn",
         "East Flatbush/Farragut",
         "Boro Zone"
        ],
        [
         72,
         "Brooklyn",
         "East Flatbush/Remsen Village",
         "Boro Zone"
        ],
        [
         73,
         "Queens",
         "East Flushing",
         "Boro Zone"
        ],
        [
         74,
         "Manhattan",
         "East Harlem North",
         "Boro Zone"
        ],
        [
         75,
         "Manhattan",
         "East Harlem South",
         "Boro Zone"
        ],
        [
         76,
         "Brooklyn",
         "East New York",
         "Boro Zone"
        ],
        [
         77,
         "Brooklyn",
         "East New York/Pennsylvania Avenue",
         "Boro Zone"
        ],
        [
         78,
         "Bronx",
         "East Tremont",
         "Boro Zone"
        ],
        [
         79,
         "Manhattan",
         "East Village",
         "Yellow Zone"
        ],
        [
         80,
         "Brooklyn",
         "East Williamsburg",
         "Boro Zone"
        ],
        [
         81,
         "Bronx",
         "Eastchester",
         "Boro Zone"
        ],
        [
         82,
         "Queens",
         "Elmhurst",
         "Boro Zone"
        ],
        [
         83,
         "Queens",
         "Elmhurst/Maspeth",
         "Boro Zone"
        ],
        [
         84,
         "Staten Island",
         "Eltingville/Annadale/Prince's Bay",
         "Boro Zone"
        ],
        [
         85,
         "Brooklyn",
         "Erasmus",
         "Boro Zone"
        ],
        [
         86,
         "Queens",
         "Far Rockaway",
         "Boro Zone"
        ],
        [
         87,
         "Manhattan",
         "Financial District North",
         "Yellow Zone"
        ],
        [
         88,
         "Manhattan",
         "Financial District South",
         "Yellow Zone"
        ],
        [
         89,
         "Brooklyn",
         "Flatbush/Ditmas Park",
         "Boro Zone"
        ],
        [
         90,
         "Manhattan",
         "Flatiron",
         "Yellow Zone"
        ],
        [
         91,
         "Brooklyn",
         "Flatlands",
         "Boro Zone"
        ],
        [
         92,
         "Queens",
         "Flushing",
         "Boro Zone"
        ],
        [
         93,
         "Queens",
         "Flushing Meadows-Corona Park",
         "Boro Zone"
        ],
        [
         94,
         "Bronx",
         "Fordham South",
         "Boro Zone"
        ],
        [
         95,
         "Queens",
         "Forest Hills",
         "Boro Zone"
        ],
        [
         96,
         "Queens",
         "Forest Park/Highland Park",
         "Boro Zone"
        ],
        [
         97,
         "Brooklyn",
         "Fort Greene",
         "Boro Zone"
        ],
        [
         98,
         "Queens",
         "Fresh Meadows",
         "Boro Zone"
        ],
        [
         99,
         "Staten Island",
         "Freshkills Park",
         "Boro Zone"
        ],
        [
         100,
         "Manhattan",
         "Garment District",
         "Yellow Zone"
        ],
        [
         101,
         "Queens",
         "Glen Oaks",
         "Boro Zone"
        ],
        [
         102,
         "Queens",
         "Glendale",
         "Boro Zone"
        ],
        [
         103,
         "Manhattan",
         "Governor's Island/Ellis Island/Liberty Island",
         "Yellow Zone"
        ],
        [
         104,
         "Manhattan",
         "Governor's Island/Ellis Island/Liberty Island",
         "Yellow Zone"
        ],
        [
         105,
         "Manhattan",
         "Governor's Island/Ellis Island/Liberty Island",
         "Yellow Zone"
        ],
        [
         106,
         "Brooklyn",
         "Gowanus",
         "Boro Zone"
        ],
        [
         107,
         "Manhattan",
         "Gramercy",
         "Yellow Zone"
        ],
        [
         108,
         "Brooklyn",
         "Gravesend",
         "Boro Zone"
        ],
        [
         109,
         "Staten Island",
         "Great Kills",
         "Boro Zone"
        ],
        [
         110,
         "Staten Island",
         "Great Kills Park",
         "Boro Zone"
        ],
        [
         111,
         "Brooklyn",
         "Green-Wood Cemetery",
         "Boro Zone"
        ],
        [
         112,
         "Brooklyn",
         "Greenpoint",
         "Boro Zone"
        ],
        [
         113,
         "Manhattan",
         "Greenwich Village North",
         "Yellow Zone"
        ],
        [
         114,
         "Manhattan",
         "Greenwich Village South",
         "Yellow Zone"
        ],
        [
         115,
         "Staten Island",
         "Grymes Hill/Clifton",
         "Boro Zone"
        ],
        [
         116,
         "Manhattan",
         "Hamilton Heights",
         "Boro Zone"
        ],
        [
         117,
         "Queens",
         "Hammels/Arverne",
         "Boro Zone"
        ],
        [
         118,
         "Staten Island",
         "Heartland Village/Todt Hill",
         "Boro Zone"
        ],
        [
         119,
         "Bronx",
         "Highbridge",
         "Boro Zone"
        ],
        [
         120,
         "Manhattan",
         "Highbridge Park",
         "Boro Zone"
        ],
        [
         121,
         "Queens",
         "Hillcrest/Pomonok",
         "Boro Zone"
        ],
        [
         122,
         "Queens",
         "Hollis",
         "Boro Zone"
        ],
        [
         123,
         "Brooklyn",
         "Homecrest",
         "Boro Zone"
        ],
        [
         124,
         "Queens",
         "Howard Beach",
         "Boro Zone"
        ],
        [
         125,
         "Manhattan",
         "Hudson Sq",
         "Yellow Zone"
        ],
        [
         126,
         "Bronx",
         "Hunts Point",
         "Boro Zone"
        ],
        [
         127,
         "Manhattan",
         "Inwood",
         "Boro Zone"
        ],
        [
         128,
         "Manhattan",
         "Inwood Hill Park",
         "Boro Zone"
        ],
        [
         129,
         "Queens",
         "Jackson Heights",
         "Boro Zone"
        ],
        [
         130,
         "Queens",
         "Jamaica",
         "Boro Zone"
        ],
        [
         131,
         "Queens",
         "Jamaica Estates",
         "Boro Zone"
        ],
        [
         132,
         "Queens",
         "JFK Airport",
         "Airports"
        ],
        [
         133,
         "Brooklyn",
         "Kensington",
         "Boro Zone"
        ],
        [
         134,
         "Queens",
         "Kew Gardens",
         "Boro Zone"
        ],
        [
         135,
         "Queens",
         "Kew Gardens Hills",
         "Boro Zone"
        ],
        [
         136,
         "Bronx",
         "Kingsbridge Heights",
         "Boro Zone"
        ],
        [
         137,
         "Manhattan",
         "Kips Bay",
         "Yellow Zone"
        ],
        [
         138,
         "Queens",
         "LaGuardia Airport",
         "Airports"
        ],
        [
         139,
         "Queens",
         "Laurelton",
         "Boro Zone"
        ],
        [
         140,
         "Manhattan",
         "Lenox Hill East",
         "Yellow Zone"
        ],
        [
         141,
         "Manhattan",
         "Lenox Hill West",
         "Yellow Zone"
        ],
        [
         142,
         "Manhattan",
         "Lincoln Square East",
         "Yellow Zone"
        ],
        [
         143,
         "Manhattan",
         "Lincoln Square West",
         "Yellow Zone"
        ],
        [
         144,
         "Manhattan",
         "Little Italy/NoLiTa",
         "Yellow Zone"
        ],
        [
         145,
         "Queens",
         "Long Island City/Hunters Point",
         "Boro Zone"
        ],
        [
         146,
         "Queens",
         "Long Island City/Queens Plaza",
         "Boro Zone"
        ],
        [
         147,
         "Bronx",
         "Longwood",
         "Boro Zone"
        ],
        [
         148,
         "Manhattan",
         "Lower East Side",
         "Yellow Zone"
        ],
        [
         149,
         "Brooklyn",
         "Madison",
         "Boro Zone"
        ],
        [
         150,
         "Brooklyn",
         "Manhattan Beach",
         "Boro Zone"
        ],
        [
         151,
         "Manhattan",
         "Manhattan Valley",
         "Yellow Zone"
        ],
        [
         152,
         "Manhattan",
         "Manhattanville",
         "Boro Zone"
        ],
        [
         153,
         "Manhattan",
         "Marble Hill",
         "Boro Zone"
        ],
        [
         154,
         "Brooklyn",
         "Marine Park/Floyd Bennett Field",
         "Boro Zone"
        ],
        [
         155,
         "Brooklyn",
         "Marine Park/Mill Basin",
         "Boro Zone"
        ],
        [
         156,
         "Staten Island",
         "Mariners Harbor",
         "Boro Zone"
        ],
        [
         157,
         "Queens",
         "Maspeth",
         "Boro Zone"
        ],
        [
         158,
         "Manhattan",
         "Meatpacking/West Village West",
         "Yellow Zone"
        ],
        [
         159,
         "Bronx",
         "Melrose South",
         "Boro Zone"
        ],
        [
         160,
         "Queens",
         "Middle Village",
         "Boro Zone"
        ],
        [
         161,
         "Manhattan",
         "Midtown Center",
         "Yellow Zone"
        ],
        [
         162,
         "Manhattan",
         "Midtown East",
         "Yellow Zone"
        ],
        [
         163,
         "Manhattan",
         "Midtown North",
         "Yellow Zone"
        ],
        [
         164,
         "Manhattan",
         "Midtown South",
         "Yellow Zone"
        ],
        [
         165,
         "Brooklyn",
         "Midwood",
         "Boro Zone"
        ],
        [
         166,
         "Manhattan",
         "Morningside Heights",
         "Boro Zone"
        ],
        [
         167,
         "Bronx",
         "Morrisania/Melrose",
         "Boro Zone"
        ],
        [
         168,
         "Bronx",
         "Mott Haven/Port Morris",
         "Boro Zone"
        ],
        [
         169,
         "Bronx",
         "Mount Hope",
         "Boro Zone"
        ],
        [
         170,
         "Manhattan",
         "Murray Hill",
         "Yellow Zone"
        ],
        [
         171,
         "Queens",
         "Murray Hill-Queens",
         "Boro Zone"
        ],
        [
         172,
         "Staten Island",
         "New Dorp/Midland Beach",
         "Boro Zone"
        ],
        [
         173,
         "Queens",
         "North Corona",
         "Boro Zone"
        ],
        [
         174,
         "Bronx",
         "Norwood",
         "Boro Zone"
        ],
        [
         175,
         "Queens",
         "Oakland Gardens",
         "Boro Zone"
        ],
        [
         176,
         "Staten Island",
         "Oakwood",
         "Boro Zone"
        ],
        [
         177,
         "Brooklyn",
         "Ocean Hill",
         "Boro Zone"
        ],
        [
         178,
         "Brooklyn",
         "Ocean Parkway South",
         "Boro Zone"
        ],
        [
         179,
         "Queens",
         "Old Astoria",
         "Boro Zone"
        ],
        [
         180,
         "Queens",
         "Ozone Park",
         "Boro Zone"
        ],
        [
         181,
         "Brooklyn",
         "Park Slope",
         "Boro Zone"
        ],
        [
         182,
         "Bronx",
         "Parkchester",
         "Boro Zone"
        ],
        [
         183,
         "Bronx",
         "Pelham Bay",
         "Boro Zone"
        ],
        [
         184,
         "Bronx",
         "Pelham Bay Park",
         "Boro Zone"
        ],
        [
         185,
         "Bronx",
         "Pelham Parkway",
         "Boro Zone"
        ],
        [
         186,
         "Manhattan",
         "Penn Station/Madison Sq West",
         "Yellow Zone"
        ],
        [
         187,
         "Staten Island",
         "Port Richmond",
         "Boro Zone"
        ],
        [
         188,
         "Brooklyn",
         "Prospect-Lefferts Gardens",
         "Boro Zone"
        ],
        [
         189,
         "Brooklyn",
         "Prospect Heights",
         "Boro Zone"
        ],
        [
         190,
         "Brooklyn",
         "Prospect Park",
         "Boro Zone"
        ],
        [
         191,
         "Queens",
         "Queens Village",
         "Boro Zone"
        ],
        [
         192,
         "Queens",
         "Queensboro Hill",
         "Boro Zone"
        ],
        [
         193,
         "Queens",
         "Queensbridge/Ravenswood",
         "Boro Zone"
        ],
        [
         194,
         "Manhattan",
         "Randalls Island",
         "Yellow Zone"
        ],
        [
         195,
         "Brooklyn",
         "Red Hook",
         "Boro Zone"
        ],
        [
         196,
         "Queens",
         "Rego Park",
         "Boro Zone"
        ],
        [
         197,
         "Queens",
         "Richmond Hill",
         "Boro Zone"
        ],
        [
         198,
         "Queens",
         "Ridgewood",
         "Boro Zone"
        ],
        [
         199,
         "Bronx",
         "Rikers Island",
         "Boro Zone"
        ],
        [
         200,
         "Bronx",
         "Riverdale/North Riverdale/Fieldston",
         "Boro Zone"
        ],
        [
         201,
         "Queens",
         "Rockaway Park",
         "Boro Zone"
        ],
        [
         202,
         "Manhattan",
         "Roosevelt Island",
         "Boro Zone"
        ],
        [
         203,
         "Queens",
         "Rosedale",
         "Boro Zone"
        ],
        [
         204,
         "Staten Island",
         "Rossville/Woodrow",
         "Boro Zone"
        ],
        [
         205,
         "Queens",
         "Saint Albans",
         "Boro Zone"
        ],
        [
         206,
         "Staten Island",
         "Saint George/New Brighton",
         "Boro Zone"
        ],
        [
         207,
         "Queens",
         "Saint Michaels Cemetery/Woodside",
         "Boro Zone"
        ],
        [
         208,
         "Bronx",
         "Schuylerville/Edgewater Park",
         "Boro Zone"
        ],
        [
         209,
         "Manhattan",
         "Seaport",
         "Yellow Zone"
        ],
        [
         210,
         "Brooklyn",
         "Sheepshead Bay",
         "Boro Zone"
        ],
        [
         211,
         "Manhattan",
         "SoHo",
         "Yellow Zone"
        ],
        [
         212,
         "Bronx",
         "Soundview/Bruckner",
         "Boro Zone"
        ],
        [
         213,
         "Bronx",
         "Soundview/Castle Hill",
         "Boro Zone"
        ],
        [
         214,
         "Staten Island",
         "South Beach/Dongan Hills",
         "Boro Zone"
        ],
        [
         215,
         "Queens",
         "South Jamaica",
         "Boro Zone"
        ],
        [
         216,
         "Queens",
         "South Ozone Park",
         "Boro Zone"
        ],
        [
         217,
         "Brooklyn",
         "South Williamsburg",
         "Boro Zone"
        ],
        [
         218,
         "Queens",
         "Springfield Gardens North",
         "Boro Zone"
        ],
        [
         219,
         "Queens",
         "Springfield Gardens South",
         "Boro Zone"
        ],
        [
         220,
         "Bronx",
         "Spuyten Duyvil/Kingsbridge",
         "Boro Zone"
        ],
        [
         221,
         "Staten Island",
         "Stapleton",
         "Boro Zone"
        ],
        [
         222,
         "Brooklyn",
         "Starrett City",
         "Boro Zone"
        ],
        [
         223,
         "Queens",
         "Steinway",
         "Boro Zone"
        ],
        [
         224,
         "Manhattan",
         "Stuy Town/Peter Cooper Village",
         "Yellow Zone"
        ],
        [
         225,
         "Brooklyn",
         "Stuyvesant Heights",
         "Boro Zone"
        ],
        [
         226,
         "Queens",
         "Sunnyside",
         "Boro Zone"
        ],
        [
         227,
         "Brooklyn",
         "Sunset Park East",
         "Boro Zone"
        ],
        [
         228,
         "Brooklyn",
         "Sunset Park West",
         "Boro Zone"
        ],
        [
         229,
         "Manhattan",
         "Sutton Place/Turtle Bay North",
         "Yellow Zone"
        ],
        [
         230,
         "Manhattan",
         "Times Sq/Theatre District",
         "Yellow Zone"
        ],
        [
         231,
         "Manhattan",
         "TriBeCa/Civic Center",
         "Yellow Zone"
        ],
        [
         232,
         "Manhattan",
         "Two Bridges/Seward Park",
         "Yellow Zone"
        ],
        [
         233,
         "Manhattan",
         "UN/Turtle Bay South",
         "Yellow Zone"
        ],
        [
         234,
         "Manhattan",
         "Union Sq",
         "Yellow Zone"
        ],
        [
         235,
         "Bronx",
         "University Heights/Morris Heights",
         "Boro Zone"
        ],
        [
         236,
         "Manhattan",
         "Upper East Side North",
         "Yellow Zone"
        ],
        [
         237,
         "Manhattan",
         "Upper East Side South",
         "Yellow Zone"
        ],
        [
         238,
         "Manhattan",
         "Upper West Side North",
         "Yellow Zone"
        ],
        [
         239,
         "Manhattan",
         "Upper West Side South",
         "Yellow Zone"
        ],
        [
         240,
         "Bronx",
         "Van Cortlandt Park",
         "Boro Zone"
        ],
        [
         241,
         "Bronx",
         "Van Cortlandt Village",
         "Boro Zone"
        ],
        [
         242,
         "Bronx",
         "Van Nest/Morris Park",
         "Boro Zone"
        ],
        [
         243,
         "Manhattan",
         "Washington Heights North",
         "Boro Zone"
        ],
        [
         244,
         "Manhattan",
         "Washington Heights South",
         "Boro Zone"
        ],
        [
         245,
         "Staten Island",
         "West Brighton",
         "Boro Zone"
        ],
        [
         246,
         "Manhattan",
         "West Chelsea/Hudson Yards",
         "Yellow Zone"
        ],
        [
         247,
         "Bronx",
         "West Concourse",
         "Boro Zone"
        ],
        [
         248,
         "Bronx",
         "West Farms/Bronx River",
         "Boro Zone"
        ],
        [
         249,
         "Manhattan",
         "West Village",
         "Yellow Zone"
        ],
        [
         250,
         "Bronx",
         "Westchester Village/Unionport",
         "Boro Zone"
        ],
        [
         251,
         "Staten Island",
         "Westerleigh",
         "Boro Zone"
        ],
        [
         252,
         "Queens",
         "Whitestone",
         "Boro Zone"
        ],
        [
         253,
         "Queens",
         "Willets Point",
         "Boro Zone"
        ],
        [
         254,
         "Bronx",
         "Williamsbridge/Olinville",
         "Boro Zone"
        ],
        [
         255,
         "Brooklyn",
         "Williamsburg (North Side)",
         "Boro Zone"
        ],
        [
         256,
         "Brooklyn",
         "Williamsburg (South Side)",
         "Boro Zone"
        ],
        [
         257,
         "Brooklyn",
         "Windsor Terrace",
         "Boro Zone"
        ],
        [
         258,
         "Queens",
         "Woodhaven",
         "Boro Zone"
        ],
        [
         259,
         "Bronx",
         "Woodlawn/Wakefield",
         "Boro Zone"
        ],
        [
         260,
         "Queens",
         "Woodside",
         "Boro Zone"
        ],
        [
         261,
         "Manhattan",
         "World Trade Center",
         "Yellow Zone"
        ],
        [
         262,
         "Manhattan",
         "Yorkville East",
         "Yellow Zone"
        ],
        [
         263,
         "Manhattan",
         "Yorkville West",
         "Yellow Zone"
        ],
        [
         264,
         "Unknown",
         "NV",
         "N/A"
        ],
        [
         265,
         "Unknown",
         "NA",
         "N/A"
        ]
       ],
       "datasetInfos": [],
       "dbfsResultPath": null,
       "isJsonSchema": true,
       "metadata": {},
       "overflow": false,
       "plotOptions": {
        "customPlotOptions": {},
        "displayType": "table",
        "pivotAggregation": null,
        "pivotColumns": null,
        "xColumns": null,
        "yColumns": null
       },
       "removedWidgets": [],
       "schema": [
        {
         "metadata": "{}",
         "name": "LocationID",
         "type": "\"integer\""
        },
        {
         "metadata": "{}",
         "name": "Borough",
         "type": "\"string\""
        },
        {
         "metadata": "{}",
         "name": "Zone",
         "type": "\"string\""
        },
        {
         "metadata": "{}",
         "name": "service_zone",
         "type": "\"string\""
        }
       ],
       "type": "table"
      }
     },
     "output_type": "display_data"
    }
   ],
   "source": [
    "%sql\n",
    "\n",
    "/* Query the created temp table in a SQL cell */\n",
    "\n",
    "select * from `taxi_zone_lookup2_csv`"
   ]
  },
  {
   "cell_type": "code",
   "execution_count": 0,
   "metadata": {
    "application/vnd.databricks.v1+cell": {
     "cellMetadata": {
      "byteLimit": 2048000,
      "rowLimit": 10000
     },
     "inputWidgets": {},
     "nuid": "db9631f6-bb4a-42ca-8a3c-0d48af932331",
     "showTitle": false,
     "tableResultSettingsMap": {},
     "title": ""
    }
   },
   "outputs": [],
   "source": [
    "# With this registered as a temp view, it will only be available to this particular notebook. If you'd like other users to be able to query this table, you can also create a table from the DataFrame.\n",
    "# Once saved, this table will persist across cluster restarts as well as allow various users across different notebooks to query this data.\n",
    "# To do so, choose your table name and uncomment the bottom line.\n",
    "\n",
    "permanent_table_name = \"taxi_zone_lookup2_csv\"\n",
    "\n",
    "# df.write.format(\"parquet\").saveAsTable(permanent_table_name)"
   ]
  },
  {
   "cell_type": "code",
   "execution_count": 0,
   "metadata": {
    "application/vnd.databricks.v1+cell": {
     "cellMetadata": {
      "byteLimit": 2048000,
      "rowLimit": 10000
     },
     "inputWidgets": {},
     "nuid": "4118a296-e9c0-4042-bec8-1a6197d918a5",
     "showTitle": false,
     "tableResultSettingsMap": {},
     "title": ""
    }
   },
   "outputs": [
    {
     "output_type": "stream",
     "name": "stdout",
     "output_type": "stream",
     "text": [
      "+------------+---------+-------+\n|col_name    |data_type|comment|\n+------------+---------+-------+\n|LocationID  |int      |null   |\n|Borough     |string   |null   |\n|Zone        |string   |null   |\n|service_zone|string   |null   |\n+------------+---------+-------+\n\n"
     ]
    }
   ],
   "source": [
    "# Query the schema of the table using Spark SQL\n",
    "spark.sql(\"DESCRIBE taxi_zone_lookup2_csv\").show(truncate=False)"
   ]
  },
  {
   "cell_type": "code",
   "execution_count": 0,
   "metadata": {
    "application/vnd.databricks.v1+cell": {
     "cellMetadata": {
      "byteLimit": 2048000,
      "rowLimit": 10000
     },
     "inputWidgets": {},
     "nuid": "7e87dce7-fc33-47b2-a958-8c567cb24717",
     "showTitle": false,
     "tableResultSettingsMap": {},
     "title": ""
    }
   },
   "outputs": [
    {
     "output_type": "stream",
     "name": "stdout",
     "output_type": "stream",
     "text": [
      "Remote blob path: wasbs://nyctlc@azureopendatastorage.blob.core.windows.net/yellow\n"
     ]
    },
    {
     "output_type": "display_data",
     "data": {
      "text/html": [
       "<style scoped>\n",
       "  .table-result-container {\n",
       "    max-height: 300px;\n",
       "    overflow: auto;\n",
       "  }\n",
       "  table, th, td {\n",
       "    border: 1px solid black;\n",
       "    border-collapse: collapse;\n",
       "  }\n",
       "  th, td {\n",
       "    padding: 5px;\n",
       "  }\n",
       "  th {\n",
       "    text-align: left;\n",
       "  }\n",
       "</style><div class='table-result-container'><table class='table-result'><thead style='background-color: white'><tr><th>vendorID</th><th>tpepPickupDateTime</th><th>tpepDropoffDateTime</th><th>passengerCount</th><th>tripDistance</th><th>puLocationId</th><th>doLocationId</th><th>startLon</th><th>startLat</th><th>endLon</th><th>endLat</th><th>rateCodeId</th><th>storeAndFwdFlag</th><th>paymentType</th><th>fareAmount</th><th>extra</th><th>mtaTax</th><th>improvementSurcharge</th><th>tipAmount</th><th>tollsAmount</th><th>totalAmount</th><th>puYear</th><th>puMonth</th></tr></thead><tbody><tr><td>CMT</td><td>2012-02-29T23:53:14.000+0000</td><td>2012-03-01T00:00:43.000+0000</td><td>1</td><td>2.1</td><td>null</td><td>null</td><td>-73.980494</td><td>40.730601</td><td>-73.983532</td><td>40.752311</td><td>1</td><td>N</td><td>CSH</td><td>7.3</td><td>0.5</td><td>0.5</td><td>null</td><td>0.0</td><td>0.0</td><td>8.3</td><td>2012</td><td>3</td></tr><tr><td>VTS</td><td>2012-03-17T08:01:00.000+0000</td><td>2012-03-17T08:15:00.000+0000</td><td>1</td><td>11.06</td><td>null</td><td>null</td><td>-73.986067</td><td>40.699862</td><td>-73.814838</td><td>40.737052</td><td>1</td><td>null</td><td>CRD</td><td>24.5</td><td>0.0</td><td>0.5</td><td>null</td><td>4.9</td><td>0.0</td><td>29.9</td><td>2012</td><td>3</td></tr><tr><td>CMT</td><td>2012-02-29T23:58:51.000+0000</td><td>2012-03-01T00:15:48.000+0000</td><td>1</td><td>3.4</td><td>null</td><td>null</td><td>-73.968967</td><td>40.754359</td><td>-73.957048</td><td>40.743289</td><td>1</td><td>N</td><td>CRD</td><td>12.5</td><td>0.5</td><td>0.5</td><td>null</td><td>1.5</td><td>0.0</td><td>15.0</td><td>2012</td><td>3</td></tr><tr><td>CMT</td><td>2012-03-01T19:24:16.000+0000</td><td>2012-03-01T19:31:22.000+0000</td><td>1</td><td>1.3</td><td>null</td><td>null</td><td>-73.99374</td><td>40.75307</td><td>-74.005428</td><td>40.741118</td><td>1</td><td>N</td><td>CRD</td><td>6.1</td><td>1.0</td><td>0.5</td><td>null</td><td>0.0</td><td>0.0</td><td>7.6</td><td>2012</td><td>3</td></tr><tr><td>CMT</td><td>2012-02-29T23:46:32.000+0000</td><td>2012-03-01T00:05:18.000+0000</td><td>3</td><td>2.0</td><td>null</td><td>null</td><td>-73.973723</td><td>40.752323</td><td>-73.948275</td><td>40.769413</td><td>1</td><td>N</td><td>CSH</td><td>11.7</td><td>0.5</td><td>0.5</td><td>null</td><td>0.0</td><td>0.0</td><td>12.7</td><td>2012</td><td>3</td></tr><tr><td>VTS</td><td>2012-03-07T15:17:00.000+0000</td><td>2012-03-07T15:26:00.000+0000</td><td>5</td><td>1.87</td><td>null</td><td>null</td><td>-73.988237</td><td>40.75929</td><td>-73.97114</td><td>40.78275</td><td>1</td><td>null</td><td>CSH</td><td>7.7</td><td>0.0</td><td>0.5</td><td>null</td><td>0.0</td><td>0.0</td><td>8.2</td><td>2012</td><td>3</td></tr><tr><td>CMT</td><td>2012-02-29T23:41:58.000+0000</td><td>2012-03-01T00:02:29.000+0000</td><td>1</td><td>12.4</td><td>null</td><td>null</td><td>-73.954536</td><td>40.727742</td><td>-73.768994</td><td>40.760246</td><td>1</td><td>N</td><td>CSH</td><td>28.5</td><td>0.5</td><td>0.5</td><td>null</td><td>0.0</td><td>0.0</td><td>29.5</td><td>2012</td><td>3</td></tr><tr><td>VTS</td><td>2012-03-18T15:21:00.000+0000</td><td>2012-03-18T15:32:00.000+0000</td><td>6</td><td>2.51</td><td>null</td><td>null</td><td>-74.001705</td><td>40.732345</td><td>-73.974888</td><td>40.750835</td><td>1</td><td>null</td><td>CSH</td><td>8.9</td><td>0.0</td><td>0.5</td><td>null</td><td>0.0</td><td>0.0</td><td>9.4</td><td>2012</td><td>3</td></tr><tr><td>CMT</td><td>2012-02-29T23:47:08.000+0000</td><td>2012-03-01T00:06:42.000+0000</td><td>4</td><td>6.3</td><td>null</td><td>null</td><td>-73.992319</td><td>40.724503</td><td>-73.923589</td><td>40.76113</td><td>1</td><td>N</td><td>CRD</td><td>16.5</td><td>0.5</td><td>0.5</td><td>null</td><td>4.37</td><td>0.0</td><td>21.87</td><td>2012</td><td>3</td></tr><tr><td>VTS</td><td>2012-03-13T22:26:00.000+0000</td><td>2012-03-13T22:37:00.000+0000</td><td>1</td><td>1.34</td><td>null</td><td>null</td><td>-74.009907</td><td>40.706292</td><td>-74.000512</td><td>40.71733</td><td>1</td><td>null</td><td>CSH</td><td>7.3</td><td>0.5</td><td>0.5</td><td>null</td><td>0.0</td><td>0.0</td><td>8.3</td><td>2012</td><td>3</td></tr></tbody></table></div>"
      ]
     },
     "metadata": {
      "application/vnd.databricks.v1+output": {
       "addedWidgets": {},
       "aggData": [],
       "aggError": "",
       "aggOverflow": false,
       "aggSchema": [],
       "aggSeriesLimitReached": false,
       "aggType": "",
       "arguments": {},
       "columnCustomDisplayInfos": {},
       "data": [
        [
         "CMT",
         "2012-02-29T23:53:14.000+0000",
         "2012-03-01T00:00:43.000+0000",
         1,
         2.1,
         null,
         null,
         -73.980494,
         40.730601,
         -73.983532,
         40.752311,
         1,
         "N",
         "CSH",
         7.3,
         0.5,
         0.5,
         null,
         0.0,
         0.0,
         8.3,
         2012,
         3
        ],
        [
         "VTS",
         "2012-03-17T08:01:00.000+0000",
         "2012-03-17T08:15:00.000+0000",
         1,
         11.06,
         null,
         null,
         -73.986067,
         40.699862,
         -73.814838,
         40.737052,
         1,
         null,
         "CRD",
         24.5,
         0.0,
         0.5,
         null,
         4.9,
         0.0,
         29.9,
         2012,
         3
        ],
        [
         "CMT",
         "2012-02-29T23:58:51.000+0000",
         "2012-03-01T00:15:48.000+0000",
         1,
         3.4,
         null,
         null,
         -73.968967,
         40.754359,
         -73.957048,
         40.743289,
         1,
         "N",
         "CRD",
         12.5,
         0.5,
         0.5,
         null,
         1.5,
         0.0,
         15.0,
         2012,
         3
        ],
        [
         "CMT",
         "2012-03-01T19:24:16.000+0000",
         "2012-03-01T19:31:22.000+0000",
         1,
         1.3,
         null,
         null,
         -73.99374,
         40.75307,
         -74.005428,
         40.741118,
         1,
         "N",
         "CRD",
         6.1,
         1.0,
         0.5,
         null,
         0.0,
         0.0,
         7.6,
         2012,
         3
        ],
        [
         "CMT",
         "2012-02-29T23:46:32.000+0000",
         "2012-03-01T00:05:18.000+0000",
         3,
         2.0,
         null,
         null,
         -73.973723,
         40.752323,
         -73.948275,
         40.769413,
         1,
         "N",
         "CSH",
         11.7,
         0.5,
         0.5,
         null,
         0.0,
         0.0,
         12.7,
         2012,
         3
        ],
        [
         "VTS",
         "2012-03-07T15:17:00.000+0000",
         "2012-03-07T15:26:00.000+0000",
         5,
         1.87,
         null,
         null,
         -73.988237,
         40.75929,
         -73.97114,
         40.78275,
         1,
         null,
         "CSH",
         7.7,
         0.0,
         0.5,
         null,
         0.0,
         0.0,
         8.2,
         2012,
         3
        ],
        [
         "CMT",
         "2012-02-29T23:41:58.000+0000",
         "2012-03-01T00:02:29.000+0000",
         1,
         12.4,
         null,
         null,
         -73.954536,
         40.727742,
         -73.768994,
         40.760246,
         1,
         "N",
         "CSH",
         28.5,
         0.5,
         0.5,
         null,
         0.0,
         0.0,
         29.5,
         2012,
         3
        ],
        [
         "VTS",
         "2012-03-18T15:21:00.000+0000",
         "2012-03-18T15:32:00.000+0000",
         6,
         2.51,
         null,
         null,
         -74.001705,
         40.732345,
         -73.974888,
         40.750835,
         1,
         null,
         "CSH",
         8.9,
         0.0,
         0.5,
         null,
         0.0,
         0.0,
         9.4,
         2012,
         3
        ],
        [
         "CMT",
         "2012-02-29T23:47:08.000+0000",
         "2012-03-01T00:06:42.000+0000",
         4,
         6.3,
         null,
         null,
         -73.992319,
         40.724503,
         -73.923589,
         40.76113,
         1,
         "N",
         "CRD",
         16.5,
         0.5,
         0.5,
         null,
         4.37,
         0.0,
         21.87,
         2012,
         3
        ],
        [
         "VTS",
         "2012-03-13T22:26:00.000+0000",
         "2012-03-13T22:37:00.000+0000",
         1,
         1.34,
         null,
         null,
         -74.009907,
         40.706292,
         -74.000512,
         40.71733,
         1,
         null,
         "CSH",
         7.3,
         0.5,
         0.5,
         null,
         0.0,
         0.0,
         8.3,
         2012,
         3
        ]
       ],
       "datasetInfos": [],
       "dbfsResultPath": null,
       "isJsonSchema": true,
       "metadata": {},
       "overflow": false,
       "plotOptions": {
        "customPlotOptions": {},
        "displayType": "table",
        "pivotAggregation": null,
        "pivotColumns": null,
        "xColumns": null,
        "yColumns": null
       },
       "removedWidgets": [],
       "schema": [
        {
         "metadata": "{}",
         "name": "vendorID",
         "type": "\"string\""
        },
        {
         "metadata": "{}",
         "name": "tpepPickupDateTime",
         "type": "\"timestamp\""
        },
        {
         "metadata": "{}",
         "name": "tpepDropoffDateTime",
         "type": "\"timestamp\""
        },
        {
         "metadata": "{}",
         "name": "passengerCount",
         "type": "\"integer\""
        },
        {
         "metadata": "{}",
         "name": "tripDistance",
         "type": "\"double\""
        },
        {
         "metadata": "{}",
         "name": "puLocationId",
         "type": "\"string\""
        },
        {
         "metadata": "{}",
         "name": "doLocationId",
         "type": "\"string\""
        },
        {
         "metadata": "{}",
         "name": "startLon",
         "type": "\"double\""
        },
        {
         "metadata": "{}",
         "name": "startLat",
         "type": "\"double\""
        },
        {
         "metadata": "{}",
         "name": "endLon",
         "type": "\"double\""
        },
        {
         "metadata": "{}",
         "name": "endLat",
         "type": "\"double\""
        },
        {
         "metadata": "{}",
         "name": "rateCodeId",
         "type": "\"integer\""
        },
        {
         "metadata": "{}",
         "name": "storeAndFwdFlag",
         "type": "\"string\""
        },
        {
         "metadata": "{}",
         "name": "paymentType",
         "type": "\"string\""
        },
        {
         "metadata": "{}",
         "name": "fareAmount",
         "type": "\"double\""
        },
        {
         "metadata": "{}",
         "name": "extra",
         "type": "\"double\""
        },
        {
         "metadata": "{}",
         "name": "mtaTax",
         "type": "\"double\""
        },
        {
         "metadata": "{}",
         "name": "improvementSurcharge",
         "type": "\"string\""
        },
        {
         "metadata": "{}",
         "name": "tipAmount",
         "type": "\"double\""
        },
        {
         "metadata": "{}",
         "name": "tollsAmount",
         "type": "\"double\""
        },
        {
         "metadata": "{}",
         "name": "totalAmount",
         "type": "\"double\""
        },
        {
         "metadata": "{}",
         "name": "puYear",
         "type": "\"integer\""
        },
        {
         "metadata": "{}",
         "name": "puMonth",
         "type": "\"integer\""
        }
       ],
       "type": "table"
      }
     },
     "output_type": "display_data"
    }
   ],
   "source": [
    "blob_account_name = \"azureopendatastorage\"\n",
    "blob_container_name = \"nyctlc\"\n",
    "blob_relative_path = \"yellow\"\n",
    "blob_sas_token = \"r\"\n",
    "wasbs_path = 'wasbs://%s@%s.blob.core.windows.net/%s' % (blob_container_name, blob_account_name, blob_relative_path)\n",
    "spark.conf.set(\n",
    "  'fs.azure.sas.%s.%s.blob.core.windows.net' % (blob_container_name, blob_account_name),\n",
    "  blob_sas_token)\n",
    "print('Remote blob path: ' + wasbs_path)\n",
    "\n",
    "yellowtaxis = spark.read.parquet(wasbs_path)\n",
    "yellowtaxis.createOrReplaceTempView('source')\n",
    "display(spark.sql('SELECT * FROM source LIMIT 10'))"
   ]
  },
  {
   "cell_type": "code",
   "execution_count": 0,
   "metadata": {
    "application/vnd.databricks.v1+cell": {
     "cellMetadata": {
      "byteLimit": 2048000,
      "rowLimit": 10000
     },
     "inputWidgets": {},
     "nuid": "fd25ecc5-13d5-43ce-872b-a2551dd1545a",
     "showTitle": false,
     "tableResultSettingsMap": {},
     "title": ""
    }
   },
   "outputs": [
    {
     "output_type": "stream",
     "name": "stdout",
     "output_type": "stream",
     "text": [
      "+--------------------+---------+-------+\n|col_name            |data_type|comment|\n+--------------------+---------+-------+\n|vendorID            |string   |null   |\n|tpepPickupDateTime  |timestamp|null   |\n|tpepDropoffDateTime |timestamp|null   |\n|passengerCount      |int      |null   |\n|tripDistance        |double   |null   |\n|puLocationId        |string   |null   |\n|doLocationId        |string   |null   |\n|startLon            |double   |null   |\n|startLat            |double   |null   |\n|endLon              |double   |null   |\n|endLat              |double   |null   |\n|rateCodeId          |int      |null   |\n|storeAndFwdFlag     |string   |null   |\n|paymentType         |string   |null   |\n|fareAmount          |double   |null   |\n|extra               |double   |null   |\n|mtaTax              |double   |null   |\n|improvementSurcharge|string   |null   |\n|tipAmount           |double   |null   |\n|tollsAmount         |double   |null   |\n+--------------------+---------+-------+\nonly showing top 20 rows\n\n"
     ]
    }
   ],
   "source": [
    "spark.sql(\"DESCRIBE source\").show(truncate=False)"
   ]
  },
  {
   "cell_type": "code",
   "execution_count": 0,
   "metadata": {
    "application/vnd.databricks.v1+cell": {
     "cellMetadata": {
      "byteLimit": 2048000,
      "implicitDf": true,
      "rowLimit": 10000
     },
     "inputWidgets": {},
     "nuid": "d4eea32e-3721-49f7-839c-87839c65ef21",
     "showTitle": false,
     "tableResultSettingsMap": {},
     "title": ""
    }
   },
   "outputs": [
    {
     "output_type": "display_data",
     "data": {
      "text/html": [
       "<style scoped>\n",
       "  .table-result-container {\n",
       "    max-height: 300px;\n",
       "    overflow: auto;\n",
       "  }\n",
       "  table, th, td {\n",
       "    border: 1px solid black;\n",
       "    border-collapse: collapse;\n",
       "  }\n",
       "  th, td {\n",
       "    padding: 5px;\n",
       "  }\n",
       "  th {\n",
       "    text-align: left;\n",
       "  }\n",
       "</style><div class='table-result-container'><table class='table-result'><thead style='background-color: white'><tr><th>Borough</th><th>Zone</th><th>puLocationId</th><th>avg_total_amount</th><th>total_trip_count</th><th>dropoff_trip_count</th><th>dropoff_proportion</th><th>weighted_profit</th></tr></thead><tbody><tr><td>Queens</td><td>Baisley Park</td><td>10</td><td>65.07453250166584</td><td>79519</td><td>38019</td><td>0.4781121492976521</td><td>31.112924598911373</td></tr><tr><td>Queens</td><td>South Jamaica</td><td>215</td><td>64.16822554436119</td><td>27693</td><td>12785</td><td>0.4616690138302098</td><td>29.624481406299708</td></tr><tr><td>Queens</td><td>Flushing Meadows-Corona Park</td><td>93</td><td>59.32485605357035</td><td>40918</td><td>16268</td><td>0.39757563908304416</td><td>23.586117559007832</td></tr><tr><td>Manhattan</td><td>Randalls Island</td><td>194</td><td>53.137725767781696</td><td>17518</td><td>7492</td><td>0.4276743920538874</td><td>22.725644562862225</td></tr><tr><td>Queens</td><td>Jamaica</td><td>130</td><td>56.54862180702533</td><td>29009</td><td>10959</td><td>0.3777793098693509</td><td>21.362899320320953</td></tr><tr><td>Queens</td><td>Springfield Gardens South</td><td>219</td><td>66.0131376103028</td><td>20965</td><td>6770</td><td>0.3229191509658955</td><td>21.316906349713808</td></tr><tr><td>Queens</td><td>Briarwood/Jamaica Hills</td><td>28</td><td>54.81637613074108</td><td>20009</td><td>6915</td><td>0.3455944824828827</td><td>18.944237140490507</td></tr><tr><td>Queens</td><td>LaGuardia Airport</td><td>138</td><td>43.71462915847119</td><td>8421347</td><td>3569804</td><td>0.42389940706635176</td><td>18.53060538040139</td></tr><tr><td>Queens</td><td>JFK Airport</td><td>132</td><td>57.211331474025755</td><td>7757718</td><td>2442330</td><td>0.31482582893577726</td><td>18.01160485582968</td></tr><tr><td>Queens</td><td>Astoria Park</td><td>8</td><td>47.51653068862276</td><td>2672</td><td>958</td><td>0.35853293413173654</td><td>17.03624116755262</td></tr><tr><td>Queens</td><td>Jamaica Bay</td><td>2</td><td>53.024911504424786</td><td>226</td><td>64</td><td>0.2831858407079646</td><td>15.015904142845956</td></tr><tr><td>Queens</td><td>Corona</td><td>56</td><td>46.10769359441108</td><td>10163</td><td>3181</td><td>0.31299813047328545</td><td>14.431621895485748</td></tr><tr><td>Queens</td><td>Maspeth</td><td>157</td><td>46.7134451832379</td><td>12934</td><td>3595</td><td>0.27794959022730786</td><td>12.983982946786783</td></tr><tr><td>Manhattan</td><td>Morningside Heights</td><td>166</td><td>21.761280238782753</td><td>784299</td><td>431714</td><td>0.5504456846177287</td><td>11.978402799195022</td></tr><tr><td>Manhattan</td><td>Battery Park City</td><td>13</td><td>24.927316571500338</td><td>2019547</td><td>959177</td><td>0.4749466093138709</td><td>11.839144484927552</td></tr><tr><td>Manhattan</td><td>Battery Park</td><td>12</td><td>24.801453450123937</td><td>106402</td><td>50510</td><td>0.4747091220089848</td><td>11.77347619185504</td></tr><tr><td>Manhattan</td><td>World Trade Center</td><td>261</td><td>24.927401931402777</td><td>1319357</td><td>613554</td><td>0.46504016729361347</td><td>11.592243164374691</td></tr><tr><td>Manhattan</td><td>Greenwich Village North</td><td>113</td><td>21.673013753330636</td><td>1750777</td><td>906203</td><td>0.5176004711051151</td><td>11.217962128991577</td></tr><tr><td>Manhattan</td><td>Bloomingdale</td><td>24</td><td>20.78677280945253</td><td>416483</td><td>222969</td><td>0.5353615873877205</td><td>11.128439687936414</td></tr><tr><td>Manhattan</td><td>Central Harlem</td><td>41</td><td>21.33748064713503</td><td>430944</td><td>223082</td><td>0.5176589069577485</td><td>11.045536909028034</td></tr></tbody></table></div>"
      ]
     },
     "metadata": {
      "application/vnd.databricks.v1+output": {
       "addedWidgets": {},
       "aggData": [],
       "aggError": "",
       "aggOverflow": false,
       "aggSchema": [],
       "aggSeriesLimitReached": false,
       "aggType": "",
       "arguments": {},
       "columnCustomDisplayInfos": {},
       "data": [
        [
         "Queens",
         "Baisley Park",
         "10",
         65.07453250166584,
         79519,
         38019,
         0.4781121492976521,
         31.112924598911373
        ],
        [
         "Queens",
         "South Jamaica",
         "215",
         64.16822554436119,
         27693,
         12785,
         0.4616690138302098,
         29.624481406299708
        ],
        [
         "Queens",
         "Flushing Meadows-Corona Park",
         "93",
         59.32485605357035,
         40918,
         16268,
         0.39757563908304416,
         23.586117559007832
        ],
        [
         "Manhattan",
         "Randalls Island",
         "194",
         53.137725767781696,
         17518,
         7492,
         0.4276743920538874,
         22.725644562862225
        ],
        [
         "Queens",
         "Jamaica",
         "130",
         56.54862180702533,
         29009,
         10959,
         0.3777793098693509,
         21.362899320320953
        ],
        [
         "Queens",
         "Springfield Gardens South",
         "219",
         66.0131376103028,
         20965,
         6770,
         0.3229191509658955,
         21.316906349713808
        ],
        [
         "Queens",
         "Briarwood/Jamaica Hills",
         "28",
         54.81637613074108,
         20009,
         6915,
         0.3455944824828827,
         18.944237140490507
        ],
        [
         "Queens",
         "LaGuardia Airport",
         "138",
         43.71462915847119,
         8421347,
         3569804,
         0.42389940706635176,
         18.53060538040139
        ],
        [
         "Queens",
         "JFK Airport",
         "132",
         57.211331474025755,
         7757718,
         2442330,
         0.31482582893577726,
         18.01160485582968
        ],
        [
         "Queens",
         "Astoria Park",
         "8",
         47.51653068862276,
         2672,
         958,
         0.35853293413173654,
         17.03624116755262
        ],
        [
         "Queens",
         "Jamaica Bay",
         "2",
         53.024911504424786,
         226,
         64,
         0.2831858407079646,
         15.015904142845956
        ],
        [
         "Queens",
         "Corona",
         "56",
         46.10769359441108,
         10163,
         3181,
         0.31299813047328545,
         14.431621895485748
        ],
        [
         "Queens",
         "Maspeth",
         "157",
         46.7134451832379,
         12934,
         3595,
         0.27794959022730786,
         12.983982946786783
        ],
        [
         "Manhattan",
         "Morningside Heights",
         "166",
         21.761280238782753,
         784299,
         431714,
         0.5504456846177287,
         11.978402799195022
        ],
        [
         "Manhattan",
         "Battery Park City",
         "13",
         24.927316571500338,
         2019547,
         959177,
         0.4749466093138709,
         11.839144484927552
        ],
        [
         "Manhattan",
         "Battery Park",
         "12",
         24.801453450123937,
         106402,
         50510,
         0.4747091220089848,
         11.77347619185504
        ],
        [
         "Manhattan",
         "World Trade Center",
         "261",
         24.927401931402777,
         1319357,
         613554,
         0.46504016729361347,
         11.592243164374691
        ],
        [
         "Manhattan",
         "Greenwich Village North",
         "113",
         21.673013753330636,
         1750777,
         906203,
         0.5176004711051151,
         11.217962128991577
        ],
        [
         "Manhattan",
         "Bloomingdale",
         "24",
         20.78677280945253,
         416483,
         222969,
         0.5353615873877205,
         11.128439687936414
        ],
        [
         "Manhattan",
         "Central Harlem",
         "41",
         21.33748064713503,
         430944,
         223082,
         0.5176589069577485,
         11.045536909028034
        ]
       ],
       "datasetInfos": [],
       "dbfsResultPath": null,
       "isJsonSchema": true,
       "metadata": {},
       "overflow": false,
       "plotOptions": {
        "customPlotOptions": {},
        "displayType": "table",
        "pivotAggregation": null,
        "pivotColumns": null,
        "xColumns": null,
        "yColumns": null
       },
       "removedWidgets": [],
       "schema": [
        {
         "metadata": "{}",
         "name": "Borough",
         "type": "\"string\""
        },
        {
         "metadata": "{}",
         "name": "Zone",
         "type": "\"string\""
        },
        {
         "metadata": "{}",
         "name": "puLocationId",
         "type": "\"string\""
        },
        {
         "metadata": "{}",
         "name": "avg_total_amount",
         "type": "\"double\""
        },
        {
         "metadata": "{}",
         "name": "total_trip_count",
         "type": "\"long\""
        },
        {
         "metadata": "{}",
         "name": "dropoff_trip_count",
         "type": "\"long\""
        },
        {
         "metadata": "{}",
         "name": "dropoff_proportion",
         "type": "\"double\""
        },
        {
         "metadata": "{}",
         "name": "weighted_profit",
         "type": "\"double\""
        }
       ],
       "type": "table"
      }
     },
     "output_type": "display_data"
    }
   ],
   "source": [
    "%sql\n",
    "-- 1: 20 most popular drop-off locations in Manhattan (where trips are >= 2 miles)\n",
    "WITH manhattan_dropoffs AS (\n",
    "    SELECT \n",
    "        s.doLocationId,\n",
    "        SUM(s.passengerCount) AS total_passenger_count\n",
    "    FROM source s\n",
    "    JOIN taxi_zone_lookup2_csv t ON s.doLocationId = CAST(t.LocationID AS STRING)\n",
    "    WHERE s.tripDistance >= 2\n",
    "    AND t.Borough = 'Manhattan'\n",
    "    GROUP BY s.doLocationId\n",
    "    ORDER BY total_passenger_count DESC\n",
    "    LIMIT 20\n",
    "),\n",
    "\n",
    "-- 2: Analysis of all pickup locations\n",
    "pickup_analysis AS (\n",
    "    SELECT \n",
    "        s.puLocationId,\n",
    "        AVG(s.fareAmount + s.extra + s.mtaTax + s.improvementSurcharge + s.tipAmount + s.tollsAmount) AS avg_total_amount,\n",
    "        COUNT(*) AS total_trip_count,\n",
    "        SUM(CASE WHEN s.doLocationId IN (SELECT doLocationId FROM manhattan_dropoffs) THEN 1 ELSE 0 END) AS dropoff_trip_count\n",
    "    FROM source s\n",
    "    WHERE s.tripDistance >= 2\n",
    "    GROUP BY s.puLocationId\n",
    "),\n",
    "\n",
    "-- 3: Join with the taxi_zone_lookup2_csv table to get Borough and Zone for each pickup location\n",
    "pickup_with_zone AS (\n",
    "    SELECT \n",
    "        p.puLocationId,\n",
    "        p.avg_total_amount,\n",
    "        p.total_trip_count,\n",
    "        p.dropoff_trip_count,\n",
    "        t.Borough,\n",
    "        t.Zone,\n",
    "        CAST(p.dropoff_trip_count AS DOUBLE) / p.total_trip_count AS dropoff_proportion,\n",
    "        (CAST(p.dropoff_trip_count AS DOUBLE) / p.total_trip_count) * p.avg_total_amount AS weighted_profit\n",
    "    FROM pickup_analysis p\n",
    "    JOIN taxi_zone_lookup2_csv t ON p.puLocationId = CAST(t.LocationID AS STRING)\n",
    ")\n",
    "\n",
    "-- 4: top pickup locations with the requested info\n",
    "SELECT \n",
    "    Borough, \n",
    "    Zone,\n",
    "    puLocationId,\n",
    "    avg_total_amount,\n",
    "    total_trip_count,\n",
    "    dropoff_trip_count,\n",
    "    dropoff_proportion,\n",
    "    weighted_profit\n",
    "FROM pickup_with_zone\n",
    "ORDER BY weighted_profit DESC\n",
    "LIMIT 20;\n"
   ]
  },
  {
   "cell_type": "code",
   "execution_count": 0,
   "metadata": {
    "application/vnd.databricks.v1+cell": {
     "cellMetadata": {},
     "inputWidgets": {},
     "nuid": "aea3e064-d50e-4c24-9c79-ccf5693fdc9e",
     "showTitle": false,
     "tableResultSettingsMap": {},
     "title": ""
    }
   },
   "outputs": [],
   "source": []
  }
 ],
 "metadata": {
  "application/vnd.databricks.v1+notebook": {
   "dashboards": [],
   "environmentMetadata": null,
   "language": "python",
   "notebookMetadata": {
    "mostRecentlyExecutedCommandWithImplicitDF": {
     "commandId": 2575289000567562,
     "dataframes": [
      "_sqldf"
     ]
    },
    "pythonIndentUnit": 4
   },
   "notebookName": "cloud computing Geraldine Lomeli",
   "widgets": {}
  }
 },
 "nbformat": 4,
 "nbformat_minor": 0
}
